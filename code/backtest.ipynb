{
 "cells": [
  {
   "attachments": {},
   "cell_type": "markdown",
   "metadata": {},
   "source": [
    "# Cryptocurrency Attention-Momentum Strategy \n",
    "\n",
    "Based on Yang (2019), Liu (2021), Liu (2022)\n",
    "\n",
    "Effectively a combination of:\n",
    "\n",
    "- Price Momentum:\n",
    "    > Support by all studies </br>\n",
    "    > Support on all shorter time-frames, notably between 1 to 4 weeks estimation window and weekly rebalancing </br>\n",
    "    > Also support on shorter timeframes and more frequent rebalancing, but we avoid that for practical reasons \n",
    "\n",
    "- Size\n",
    "    > Usually smaller cryptos are said to have a premium (justified by their illiquidity) </br>\n",
    "    > That makes the size premium not very interesting to trade </br>\n",
    "    > But Liu (2021 & 2022) finds that momentum is stronger in bigger and more well-known stocks </br>\n",
    "    > We will focus on bigger cryptocurrencies for liquidity  \n",
    "\n",
    "- Investor Attention\n",
    "    > As proxied by Google Searches </br>\n",
    "    > Standardized value </br>\n",
    "    > Could be divided in two, positive attention and negative attention "
   ]
  },
  {
   "attachments": {},
   "cell_type": "markdown",
   "metadata": {},
   "source": [
    "***\n",
    "## Setup"
   ]
  },
  {
   "cell_type": "code",
   "execution_count": 57,
   "metadata": {},
   "outputs": [],
   "source": [
    "# Importing relevant Package\n",
    "import pandas as pd\n",
    "import numpy as np\n",
    "import statsmodels.formula.api as smf\n",
    "\n",
    "import os \n",
    "# from eod import EodHistoricalData\n",
    "\n",
    "import matplotlib.pyplot as plt\n",
    "from IPython.display import Image"
   ]
  },
  {
   "cell_type": "code",
   "execution_count": 58,
   "metadata": {},
   "outputs": [],
   "source": [
    "# Loading Price and Market Cap data from CoinMetrics\n",
    "price_df = pd.read_csv('../data/cryptorets.csv')\n",
    "cap_df = pd.read_csv('../data/cryptocap.csv')"
   ]
  },
  {
   "cell_type": "code",
   "execution_count": 59,
   "metadata": {},
   "outputs": [],
   "source": [
    "###=== Cleaning the Columns Titles ===###\n",
    "\n",
    "split_letter = ' /'\n",
    "\n",
    "# Modify the column names using a list comprehension\n",
    "new_columns_price = [name.split(split_letter)[0] for name in price_df.columns]\n",
    "new_columns_cap = [name.split(split_letter)[0] for name in cap_df.columns]\n",
    "\n",
    "# Rename the columns in the DataFrame\n",
    "price_df.columns = new_columns_price\n",
    "cap_df.columns = new_columns_cap"
   ]
  },
  {
   "cell_type": "code",
   "execution_count": 60,
   "metadata": {},
   "outputs": [],
   "source": [
    "###=== Setting DATE index ===###\n",
    "\n",
    "price_df['DATE'] = pd.to_datetime(price_df['Time'])\n",
    "price_df = price_df.set_index(price_df['DATE']).drop(columns={'DATE'})\n",
    "\n",
    "cap_df['DATE'] = pd.to_datetime(cap_df['Time'])\n",
    "cap_df = cap_df.set_index(cap_df['DATE']).drop(columns={'DATE'})"
   ]
  },
  {
   "cell_type": "code",
   "execution_count": 61,
   "metadata": {},
   "outputs": [],
   "source": [
    "# Had to remove EOS because Market Cap Values Missing \n",
    "price_df = price_df.drop(columns={'EOS'})"
   ]
  },
  {
   "cell_type": "code",
   "execution_count": 62,
   "metadata": {},
   "outputs": [
    {
     "name": "stdout",
     "output_type": "stream",
     "text": [
      "Values not in list1: []\n",
      "Values not in list2: []\n"
     ]
    }
   ],
   "source": [
    "# Checkup to see if our lists work \n",
    "not_in_list1 = [x for x in price_df.columns if x not in cap_df.columns ]\n",
    "not_in_list2 = [x for x in cap_df.columns if x not in price_df.columns]\n",
    "\n",
    "print(\"Values not in list1:\", not_in_list1)\n",
    "print(\"Values not in list2:\", not_in_list2)"
   ]
  },
  {
   "cell_type": "code",
   "execution_count": 63,
   "metadata": {},
   "outputs": [],
   "source": [
    "# Refine our list of cryptocurrencies \n",
    "our_list = ['1INCH', 'AAVE', 'ADA', 'ALGO', 'ALPHA', 'ANT', 'BAL', 'BAT', 'BCH',\n",
    "       'BNB', 'BSV', 'BTC', 'BTG', 'COMP', 'CRO', 'CRV', 'CVC',\n",
    "       'DASH', 'DCR', 'DGB', 'DOGE', 'DOT', 'DRGN', 'ELF',\n",
    "       'ETC', 'ETH', 'FTT', 'FUN', 'GAS', 'GNO', 'GRIN',\n",
    "       'HEDG', 'HT', 'ICP', 'KNC',\n",
    "       'LINK', 'LOOM', 'LPT', 'LTC', 'MAID', 'MANA', 'MKR', 'NEO',\n",
    "       'NXM', 'OMG', 'PAX', 'PAXG', 'PERP', 'POLY', 'POWR', 'PPT',\n",
    "       'QASH', 'QNT', 'REN', 'REP', 'SAI', 'SNT', 'SNX',\n",
    "       'SRM', 'SUSHI', 'SWRV', 'TRX', 'UMA', 'UNI', 'VTC', 'WTC', 'XEM', 'XLM',\n",
    "       'XMR', 'XRP', 'XTZ', 'XVG', 'YFI', 'ZEC', 'ZRX']"
   ]
  },
  {
   "cell_type": "code",
   "execution_count": 64,
   "metadata": {},
   "outputs": [],
   "source": [
    "###=== Removing all stablecoins, doubles, etc ===###\n",
    "price_df = price_df[our_list]\n",
    "\n",
    "cap_df = cap_df[our_list]"
   ]
  },
  {
   "cell_type": "code",
   "execution_count": 65,
   "metadata": {},
   "outputs": [
    {
     "data": {
      "text/plain": [
       "BTC     493.933492\n",
       "DASH      7.958692\n",
       "DOGE      0.000460\n",
       "LTC      10.740582\n",
       "VTC       0.988080\n",
       "XMR       1.619399\n",
       "Name: 2014-05-21 00:00:00, dtype: float64"
      ]
     },
     "execution_count": 65,
     "metadata": {},
     "output_type": "execute_result"
    }
   ],
   "source": [
    "###=== Starting the analysis at the point where there is >= 5 cryptos available ===###\n",
    "restricted_date_ret_df = price_df[price_df.index > (price_df.notna().sum(axis=1) >= 6).idxmax()]\n",
    "restricted_date_ret_df.iloc[0, :].dropna()\n"
   ]
  },
  {
   "cell_type": "code",
   "execution_count": 66,
   "metadata": {},
   "outputs": [
    {
     "data": {
      "text/plain": [
       "BTC     6.322109e+09\n",
       "DASH    3.433006e+07\n",
       "DOGE    3.620412e+07\n",
       "LTC     3.068128e+08\n",
       "VTC     4.487514e+06\n",
       "XMR     1.397249e+06\n",
       "Name: 2014-05-21 00:00:00, dtype: float64"
      ]
     },
     "execution_count": 66,
     "metadata": {},
     "output_type": "execute_result"
    }
   ],
   "source": [
    "###=== Starting the analysis at the point where there is 5 cryptos available ===###\n",
    "restricted_date_cap_df = cap_df[cap_df.index > (cap_df.notna().sum(axis=1) >= 6).idxmax()]\n",
    "restricted_date_cap_df.iloc[0, :].dropna()"
   ]
  },
  {
   "cell_type": "code",
   "execution_count": 67,
   "metadata": {},
   "outputs": [
    {
     "name": "stdout",
     "output_type": "stream",
     "text": [
      "(3245, 75)\n",
      "(3245, 75)\n"
     ]
    }
   ],
   "source": [
    "# Final dimension check \n",
    "print(restricted_date_ret_df.shape)\n",
    "print(restricted_date_cap_df.shape)"
   ]
  },
  {
   "attachments": {},
   "cell_type": "markdown",
   "metadata": {},
   "source": [
    "***\n",
    "## Cryptocurrency Attention\n",
    "\n"
   ]
  },
  {
   "attachments": {},
   "cell_type": "markdown",
   "metadata": {},
   "source": [
    "Very rough analysis using Google Search data (as in the paper). Unfortunately we weren't able to replicate the results obtained by Liu (2022) which suggest that Investor Attention could supplement the momentum strategy.However, we found seemingly contradictory remarks which could explain this problem."
   ]
  },
  {
   "attachments": {},
   "cell_type": "markdown",
   "metadata": {},
   "source": [
    "Section 2.3.4 from Liu (2021) p.2712:\n",
    "\n",
    "- Studying the cross section of time-series momentum for high and low attention coin \n",
    "- Google Attention Data for 10 Largest Coin for 2014 to 2018\n",
    "- Two groups: High-attention coin and a group of low-attention coin. Test of the momentum strategy in each subgroup\n",
    "\n",
    "Conclusion:\n",
    "- Time-Series momentum effect is stronger for the relatively low-attention coins \n",
    "- Magnitudes of the coefficient much larger for the low-attention subgroup\n",
    "\n"
   ]
  },
  {
   "attachments": {},
   "cell_type": "markdown",
   "metadata": {},
   "source": [
    "Section B.2 from Liu (2022) p.1160:\n",
    "\n",
    "Testing the hypothesis that the overreaction-driven is stronger among high-attention cryptocurrencies. \n",
    "\n",
    "Proxied by:\n",
    "- Volume based measure investor attention (Hou, 2009)\n",
    "- Google Searches of individual coins as an alternative proxy for investor attention (Liu 2021)\n",
    "\n",
    "Volume-based:\n",
    "- Momentum effect is more pronounced among coins with high attention as proxied by trading volume \n",
    "- But this is probably very correlated with the size component \n",
    "- Monotonically increasing across quintile portfolios for the high-volume subgroup \n",
    "- Echo that price momentum effect is more pronounced among stocks with high attention as proxied by stock trading volume \n",
    "\n",
    "Google searches based: \n",
    "- Direct proxy for investor attention \n",
    "- Sorting individual coins based on Google searches this week\n",
    "- Below and above their median value (based on what estimation window?)\n",
    "- Momentum effect is more pronounced among coins with high attention as proxied by Google Searches \n",
    "- For the low-search group, LS strategy is statistically insignificant\n",
    "- Excess returns are monotonically increasing across the quintile portfolio for high-search subgroups \n",
    "\n",
    "Whole Market:\n",
    "- Google Searches to capture aggregate investor attention proxied by the word \"blockchain\"\n",
    "- \"The coefficient estimate on Google is positive and statistically significant at the 1% level, suggesting that the momentum effect is larger at times of high investor attention as measured by Google searches.\"\n",
    "- Remain highly significant with the controls \n",
    "- Average momentum factor returns of the top tercile (high attention) is about 4% higher than the average momentum factor returns"
   ]
  },
  {
   "cell_type": "code",
   "execution_count": 68,
   "metadata": {},
   "outputs": [],
   "source": [
    "# Handpicked attention data for 2018-2023 \n",
    "# We are still unable to use gtrendsR for this due to change in Google API \n",
    "attention_df = pd.read_csv('../data/googleTable_w_crypto.csv', parse_dates=['Unnamed: 0'], index_col=['Unnamed: 0'])"
   ]
  },
  {
   "cell_type": "code",
   "execution_count": 69,
   "metadata": {},
   "outputs": [],
   "source": [
    "# We replace the akward values \n",
    "attention_df = attention_df.replace(\"<1\", 0)\n",
    "attention_df = attention_df.astype(int)\n",
    "attention_df.columns = our_list\n",
    "attention_df.index = pd.to_datetime(attention_df.index)\n",
    "\n",
    "# attention_df = attention_df[attention_df.columns[(attention_df == 0).sum() <= len(attention_df)*0.30]]"
   ]
  },
  {
   "cell_type": "markdown",
   "metadata": {},
   "source": [
    "Upon further review, it seems as if there is a large difference implied between the different attention measures "
   ]
  },
  {
   "cell_type": "code",
   "execution_count": 70,
   "metadata": {},
   "outputs": [],
   "source": [
    "# Week over week change in attention\n",
    "mom_attention = attention_df.pct_change().iloc[1:, :]\n",
    "mom_attention = mom_attention.fillna(0)\n",
    "mom_attention = mom_attention.replace([np.inf], 1)"
   ]
  },
  {
   "cell_type": "code",
   "execution_count": 224,
   "metadata": {},
   "outputs": [
    {
     "data": {
      "text/plain": [
       "(483, 75)"
      ]
     },
     "execution_count": 224,
     "metadata": {},
     "output_type": "execute_result"
    }
   ],
   "source": [
    "attention_df.shape"
   ]
  },
  {
   "cell_type": "code",
   "execution_count": 194,
   "metadata": {},
   "outputs": [],
   "source": [
    "# Rolling increase in attention \n",
    "rolling_attention = attention_df / attention_df.rolling('28D').median()\n",
    "rolling_attention = rolling_attention.fillna(0)\n",
    "rolling_attention = rolling_attention.replace([np.inf], 1).iloc[3:]"
   ]
  },
  {
   "cell_type": "code",
   "execution_count": 197,
   "metadata": {},
   "outputs": [],
   "source": [
    "rolling_attention = rolling_attention[rolling_attention.index >= '2014-05-21']"
   ]
  },
  {
   "attachments": {},
   "cell_type": "markdown",
   "metadata": {},
   "source": [
    "***\n",
    "## Strategy"
   ]
  },
  {
   "cell_type": "code",
   "execution_count": 228,
   "metadata": {},
   "outputs": [],
   "source": [
    "# Log Returns dataframe \n",
    "log_ret_df = np.log(1 + restricted_date_ret_df.pct_change())"
   ]
  },
  {
   "cell_type": "code",
   "execution_count": 204,
   "metadata": {},
   "outputs": [],
   "source": [
    "def compute_mom_returns(returns_df, cap_df, n_universe,  n_stocks, estimation_window, holding_period, long_short=None, attention=None, random_start_date=False, random_slice=False, going_neutral=False, miss_allocation=False):\n",
    "    \"\"\"Compute momentum-based returns and portfolio weights.\n",
    "\n",
    "    Parameters:\n",
    "        MAIN STRATEGY PARAMETERS:\n",
    "        returns_df (DataFrame): Dataframe containing the returns data.\n",
    "        cap_df (DataFrame): Dataframe containing the market capitalization data.\n",
    "        n_universe (int): Number of stocks to consider in the universe.\n",
    "        n_stocks (int): Number of top and bottom performing stocks to include in the portfolio.\n",
    "        estimation_window (int): Size of the estimation window for momentum calculation.\n",
    "        holding_period (int): Number of periods between rebalancing the portfolio.\n",
    "        long_short (str, optional): Long-short strategy type ('LS' for long-short, None for only long and 'BTC' to use BTC as benchmarking).\n",
    "        attention (DataFrame, optional): Dataframe containing attention measure for each cryptocurrency.\n",
    "        \n",
    "        ROBUSTNESS TESTS:\n",
    "        random_start_date (bool, optional): Flag to randomly start the strategy at a different moment.\n",
    "        random_slice (bool, optional): Flag to randomly select a slice of the returns dataframe.\n",
    "        going_neutral (bool, optional): Flag to go neutral at random moments during allocation.\n",
    "        miss_allocation (bool, optional): Flag to simulate missing an allocation at random moments.\n",
    "\n",
    "    Returns:\n",
    "        weights_df (DataFrame): Dataframe containing the portfolio weights for each stock.\n",
    "        portfolio_returns (Series): Series containing the portfolio returns.\n",
    "    \"\"\"\n",
    "\n",
    "    ###=== ROBUSTNESS CHECK ====###\n",
    "\n",
    "    # Flag: Start the strategy at another t+X moment\n",
    "    if random_start_date == True: \n",
    "        returns_df = returns_df.iloc[np.random.randint(0, (len(returns_df)-100)):] \n",
    "    \n",
    "    # Flag: Random Slice of the strategy\n",
    "    if random_slice == True:\n",
    "        # randomly select the starting and ending indices for the slice\n",
    "        start_index = np.random.randint(0, len(returns_df)-1)\n",
    "        end_index = np.random.randint(start_index+1, len(returns_df))\n",
    "\n",
    "        # slice the DataFrame using the selected indices\n",
    "        returns_df = returns_df[start_index:end_index]\n",
    "    \n",
    "    ###=== ATTENTION ===### \n",
    "    # if attention is not None:\n",
    "    #     # Slice the returns and market cap dataframes to fit the index values \n",
    "    #     attention = returns_df.loc[returns_df.first_valid_index():attention.last_valid_index()]\n",
    "    #     attention = cap_df.loc[attention.first_valid_index():attention.last_valid_index()]\n",
    "        \n",
    "    #     # Slice the returns and market cap dataframes to fit the column values\n",
    "    #     returns_df = returns_df[returns_df.columns.intersection(attention.columns)]\n",
    "    #     cap_df = cap_df[cap_df.columns.intersection(attention.columns)]\n",
    "\n",
    "    # Initialize the portfolio weights dataframe\n",
    "    weights_df = pd.DataFrame(columns=returns_df.columns, index=returns_df.index)\n",
    "    \n",
    "    ###=== LOOP THROUGH EACH REBALANCING PERIOD ===###\n",
    "    for i in range(estimation_window, len(returns_df), holding_period):\n",
    "        \n",
    "        # Flag: Missing an allocation \n",
    "        if miss_allocation == True: \n",
    "            if (i > 0) & (i % np.random.randint(estimation_window, int(len(returns_df) / holding_period), size=1) == 0):\n",
    "                print(f'Allocation missed at: {returns_df.iloc[i].name}')\n",
    "                continue\n",
    "        \n",
    "        ###=== Setup Universe for Period based on Market Cap ===###\n",
    "\n",
    "        # Market Cap for the Estimation Window\n",
    "        market_cap_window = cap_df.iloc[i-estimation_window:i]\n",
    "        average_cap = market_cap_window.apply(lambda x: x.mean())\n",
    "        \n",
    "        # Restricting the universe to the n_universe largest stocks \n",
    "        universe = average_cap.nlargest(n_universe).index.tolist()\n",
    "\n",
    "        # Our attention series\n",
    "        try:\n",
    "            attention_series = attention[universe].iloc[(i // holding_period)]\n",
    "        except:\n",
    "            break\n",
    "        # Attention rankings for all coins \n",
    "        attention_hlow = (attention_series > 1.0).astype(int)\n",
    "        \n",
    "        # Low and High attention in the past week coin\n",
    "        attention_high = attention_hlow[attention_hlow == 1].index.values \n",
    "        attention_low = attention_hlow[attention_hlow == 0].index.values\n",
    "\n",
    "        # Get the returns for the past estimation_window periods\n",
    "        universe_returns = returns_df[universe]\n",
    "        universe_returns_window = universe_returns.iloc[i-estimation_window:i]\n",
    "        # Get the cumulative returns for the period \n",
    "        cum_returns = universe_returns_window.apply(lambda x: x.sum())\n",
    "\n",
    "        # Find the top and bottom stocks based on the momentum critera \n",
    "        top_performing = cum_returns.sort_values(ascending=False).index[:n_stocks].values\n",
    "        bottom_performing = cum_returns.sort_values(ascending=True).index[:n_stocks].values\n",
    "\n",
    "        # Find the junction of top stocks and attention measure \n",
    "        top_cryptos = list(set(top_performing).intersection(attention_high))\n",
    "        bottom_cryptos = list(set(bottom_performing).intersection(attention_low))\n",
    "\n",
    "        ###=== Allocate equal weights to the top stocks ===###\n",
    "        if len(top_cryptos) > 0:\n",
    "            weight_long = 1 / len(top_cryptos)\n",
    "        else :\n",
    "            weight_long = 0\n",
    "        \n",
    "        if len(bottom_cryptos) > 0:\n",
    "            weight_short = -1 / len(bottom_cryptos)\n",
    "        else :\n",
    "            weight_short = 0\n",
    "\n",
    "        ###=== ROBUSTNESS CHECKS ===###\n",
    "        \n",
    "        # Going Neutral at random moments during the allocation\n",
    "        if going_neutral == True:\n",
    "            if (i > 0) & (i % np.random.randint(estimation_window, int(len(returns_df) / holding_period), size=1) == 0):\n",
    "                print(f'Going Neutral at: {returns_df.iloc[i].name}')\n",
    "                weight_long = 0\n",
    "                weight_short = 0\n",
    "        \n",
    "        \n",
    "        # Assign the weights to the portfolio weights dataframe\n",
    "        weights_df.loc[returns_df.index[i], top_cryptos] = weight_long \n",
    "        \n",
    "        if long_short == 'LS':\n",
    "            weights_df.loc[returns_df.index[i], bottom_cryptos] = weight_short\n",
    "                \n",
    "\n",
    "    ###=== WEIGHTS AND PORTFOLIO RETURNS ===###\n",
    "\n",
    "    # Find the weights for each rebalancing and fill to the next rebalance \n",
    "    weights_df = weights_df.ffill(limit=holding_period-1)\n",
    "    \n",
    "    if long_short == 'BTC':\n",
    "        weights_df['BTC'] = -1.0\n",
    "\n",
    "    # Portfolio Returns\n",
    "    portfolio_returns = (weights_df * returns_df).sum(axis=1)\n",
    "    \n",
    "    print(f'Sample Window goes from {returns_df.index.min()} to {returns_df.index.max()}')\n",
    "    return weights_df , portfolio_returns"
   ]
  },
  {
   "cell_type": "code",
   "execution_count": 209,
   "metadata": {},
   "outputs": [
    {
     "name": "stdout",
     "output_type": "stream",
     "text": [
      "Sample Window goes from 2014-05-21 00:00:00 to 2023-04-08 00:00:00\n"
     ]
    }
   ],
   "source": [
    "# Function returns a tuple of weights (dataframe) and factor returns (series)\n",
    "# Robustness checks are : random_start_date=False, random_slice=False, going_neutral=False, miss_allocation=False\n",
    "momentum_weights, momentum_factor = compute_mom_returns(log_ret_df, restricted_date_cap_df, n_universe=20, n_stocks=3, estimation_window=21, \n",
    "holding_period=7, long_short='LS', attention=rolling_attention, random_start_date=False, random_slice=False, going_neutral=False, miss_allocation=False)"
   ]
  },
  {
   "cell_type": "code",
   "execution_count": 210,
   "metadata": {},
   "outputs": [
    {
     "data": {
      "text/html": [
       "<table class=\"simpletable\">\n",
       "<caption>OLS Regression Results</caption>\n",
       "<tr>\n",
       "  <th>Dep. Variable:</th>            <td>Y</td>        <th>  R-squared:         </th> <td>  -0.000</td>\n",
       "</tr>\n",
       "<tr>\n",
       "  <th>Model:</th>                   <td>OLS</td>       <th>  Adj. R-squared:    </th> <td>  -0.000</td>\n",
       "</tr>\n",
       "<tr>\n",
       "  <th>Method:</th>             <td>Least Squares</td>  <th>  F-statistic:       </th> <td>     nan</td>\n",
       "</tr>\n",
       "<tr>\n",
       "  <th>Date:</th>             <td>Mon, 07 Aug 2023</td> <th>  Prob (F-statistic):</th>  <td>   nan</td> \n",
       "</tr>\n",
       "<tr>\n",
       "  <th>Time:</th>                 <td>13:15:56</td>     <th>  Log-Likelihood:    </th> <td>  3589.0</td>\n",
       "</tr>\n",
       "<tr>\n",
       "  <th>No. Observations:</th>      <td>  3245</td>      <th>  AIC:               </th> <td>  -7176.</td>\n",
       "</tr>\n",
       "<tr>\n",
       "  <th>Df Residuals:</th>          <td>  3244</td>      <th>  BIC:               </th> <td>  -7170.</td>\n",
       "</tr>\n",
       "<tr>\n",
       "  <th>Df Model:</th>              <td>     0</td>      <th>                     </th>     <td> </td>   \n",
       "</tr>\n",
       "<tr>\n",
       "  <th>Covariance Type:</th>      <td>nonrobust</td>    <th>                     </th>     <td> </td>   \n",
       "</tr>\n",
       "</table>\n",
       "<table class=\"simpletable\">\n",
       "<tr>\n",
       "      <td></td>         <th>coef</th>     <th>std err</th>      <th>t</th>      <th>P>|t|</th>  <th>[0.025</th>    <th>0.975]</th>  \n",
       "</tr>\n",
       "<tr>\n",
       "  <th>Intercept</th> <td>    0.0131</td> <td>    0.001</td> <td>    9.306</td> <td> 0.000</td> <td>    0.010</td> <td>    0.016</td>\n",
       "</tr>\n",
       "</table>\n",
       "<table class=\"simpletable\">\n",
       "<tr>\n",
       "  <th>Omnibus:</th>       <td>1073.547</td> <th>  Durbin-Watson:     </th> <td>   1.956</td> \n",
       "</tr>\n",
       "<tr>\n",
       "  <th>Prob(Omnibus):</th>  <td> 0.000</td>  <th>  Jarque-Bera (JB):  </th> <td>25790.523</td>\n",
       "</tr>\n",
       "<tr>\n",
       "  <th>Skew:</th>           <td> 1.015</td>  <th>  Prob(JB):          </th> <td>    0.00</td> \n",
       "</tr>\n",
       "<tr>\n",
       "  <th>Kurtosis:</th>       <td>16.661</td>  <th>  Cond. No.          </th> <td>    1.00</td> \n",
       "</tr>\n",
       "</table><br/><br/>Notes:<br/>[1] Standard Errors assume that the covariance matrix of the errors is correctly specified."
      ],
      "text/plain": [
       "<class 'statsmodels.iolib.summary.Summary'>\n",
       "\"\"\"\n",
       "                            OLS Regression Results                            \n",
       "==============================================================================\n",
       "Dep. Variable:                      Y   R-squared:                      -0.000\n",
       "Model:                            OLS   Adj. R-squared:                 -0.000\n",
       "Method:                 Least Squares   F-statistic:                       nan\n",
       "Date:                Mon, 07 Aug 2023   Prob (F-statistic):                nan\n",
       "Time:                        13:15:56   Log-Likelihood:                 3589.0\n",
       "No. Observations:                3245   AIC:                            -7176.\n",
       "Df Residuals:                    3244   BIC:                            -7170.\n",
       "Df Model:                           0                                         \n",
       "Covariance Type:            nonrobust                                         \n",
       "==============================================================================\n",
       "                 coef    std err          t      P>|t|      [0.025      0.975]\n",
       "------------------------------------------------------------------------------\n",
       "Intercept      0.0131      0.001      9.306      0.000       0.010       0.016\n",
       "==============================================================================\n",
       "Omnibus:                     1073.547   Durbin-Watson:                   1.956\n",
       "Prob(Omnibus):                  0.000   Jarque-Bera (JB):            25790.523\n",
       "Skew:                           1.015   Prob(JB):                         0.00\n",
       "Kurtosis:                      16.661   Cond. No.                         1.00\n",
       "==============================================================================\n",
       "\n",
       "Notes:\n",
       "[1] Standard Errors assume that the covariance matrix of the errors is correctly specified.\n",
       "\"\"\""
      ]
     },
     "execution_count": 210,
     "metadata": {},
     "output_type": "execute_result"
    }
   ],
   "source": [
    "###=== STATISTICAL ANALYSIS ===###\n",
    "reg_df = pd.DataFrame(momentum_factor, columns = ['ret'])\n",
    "\n",
    "Y = reg_df['ret']\n",
    "res = smf.ols('Y ~ 1', data=reg_df).fit()\n",
    "res.summary()"
   ]
  },
  {
   "cell_type": "code",
   "execution_count": 211,
   "metadata": {},
   "outputs": [],
   "source": [
    "# Initialize an empty list of dictionaries\n",
    "positions_dictionary = []\n",
    "\n",
    "# Iterate over each row in the DataFrame\n",
    "for index, row in momentum_weights.iterrows():\n",
    "    # Filter positive and negative values in the row and get their column names\n",
    "    long_cryptos = list(row[row > 0].index)\n",
    "    short_cryptos = list(row[row < 0].index)\n",
    "\n",
    "    # Create a dictionary for the current row\n",
    "    row_dict = {index: {'positive': long_cryptos, 'negative': short_cryptos}}\n",
    "\n",
    "    # Append the dictionary to the list\n",
    "    positions_dictionary.append(row_dict)\n"
   ]
  },
  {
   "cell_type": "markdown",
   "metadata": {},
   "source": [
    "***\n",
    "## Robustness Tests and Checks \n"
   ]
  },
  {
   "cell_type": "markdown",
   "metadata": {},
   "source": [
    "### Portfolio Analysis "
   ]
  },
  {
   "cell_type": "code",
   "execution_count": 213,
   "metadata": {},
   "outputs": [],
   "source": [
    "###=== PORTFOLIO ANALYSIS ===###\n",
    "\n",
    "def portfolio_analysis(factor, starting_amount, benchmark=True):\n",
    "    factor = pd.DataFrame(factor, columns=['Factor'])\n",
    "    \n",
    "    if benchmark == True:\n",
    "        factor['BTC'] = log_ret_df['BTC']\n",
    "    \n",
    "    # Convert log returns to simple returns\n",
    "    simple_returns = np.exp(factor) - 1\n",
    "\n",
    "    # Add 1 to get cumulative returns\n",
    "    cumulative_returns = 1 + simple_returns\n",
    "    cumulative_returns.iloc[0, :] = starting_amount\n",
    "    \n",
    "    # Calculate cumulative product\n",
    "    cumulative_product = np.cumprod(cumulative_returns)\n",
    "\n",
    "    # Calculate final value\n",
    "    final_value_factor = cumulative_product['Factor'][-1]\n",
    "    final_value_btc = cumulative_product['BTC'][-1]\n",
    "\n",
    "    print(\"Final value Factor: ${:.2f}\".format(final_value_factor))\n",
    "    print(\"Final value BTC: ${:.2f}\".format(final_value_btc))\n",
    "    \n",
    "    cumulative_product.plot(figsize=(16, 8))\n",
    "\n",
    "    "
   ]
  },
  {
   "cell_type": "code",
   "execution_count": 214,
   "metadata": {},
   "outputs": [
    {
     "name": "stdout",
     "output_type": "stream",
     "text": [
      "Final value Factor: $27266754906139190624256.00\n",
      "Final value BTC: $566150.13\n"
     ]
    },
    {
     "data": {
      "image/png": "[encoded data removed]",
      "text/plain": [
       "<Figure size 1152x576 with 1 Axes>"
      ]
     },
     "metadata": {},
     "output_type": "display_data"
    }
   ],
   "source": [
    "portfolio_analysis(momentum_factor, 10000)"
   ]
  },
  {
   "attachments": {},
   "cell_type": "markdown",
   "metadata": {},
   "source": [
    "### Rolling Alpha"
   ]
  },
  {
   "cell_type": "code",
   "execution_count": 215,
   "metadata": {},
   "outputs": [
    {
     "data": {
      "text/plain": [
       "<AxesSubplot: >"
      ]
     },
     "execution_count": 215,
     "metadata": {},
     "output_type": "execute_result"
    },
    {
     "data": {
      "image/png": "[encoded data removed]",
      "text/plain": [
       "<Figure size 432x288 with 1 Axes>"
      ]
     },
     "metadata": {},
     "output_type": "display_data"
    }
   ],
   "source": [
    "tvals_rolling = []\n",
    "for i in range(len(momentum_factor)):\n",
    "    reg_df = pd.DataFrame(momentum_factor[:i+1], columns = ['ret'])\n",
    "    Y = reg_df['ret']\n",
    "    res = smf.ols('Y ~ 1', data=reg_df).fit()\n",
    "    tvals_rolling.append(res.tvalues[0])\n",
    "\n",
    "rolling_alpha = pd.DataFrame(tvals_rolling)\n",
    "rolling_alpha.plot()"
   ]
  },
  {
   "cell_type": "markdown",
   "metadata": {},
   "source": [
    "### Slices"
   ]
  },
  {
   "cell_type": "code",
   "execution_count": 216,
   "metadata": {},
   "outputs": [
    {
     "name": "stdout",
     "output_type": "stream",
     "text": [
      "Sample Window goes from 2021-03-16 00:00:00 to 2022-04-02 00:00:00\n",
      "Sample Window goes from 2021-07-21 00:00:00 to 2022-04-16 00:00:00\n",
      "Sample Window goes from 2015-04-14 00:00:00 to 2021-10-22 00:00:00\n",
      "Sample Window goes from 2017-02-10 00:00:00 to 2020-05-22 00:00:00\n",
      "Sample Window goes from 2022-09-06 00:00:00 to 2022-10-06 00:00:00\n",
      "Sample Window goes from 2023-03-08 00:00:00 to 2023-03-28 00:00:00\n",
      "Sample Window goes from 2018-09-01 00:00:00 to 2022-04-05 00:00:00\n",
      "Sample Window goes from 2015-08-10 00:00:00 to 2019-05-03 00:00:00\n",
      "Sample Window goes from 2017-08-04 00:00:00 to 2023-03-15 00:00:00\n",
      "Sample Window goes from 2016-11-01 00:00:00 to 2018-06-07 00:00:00\n",
      "Sample Window goes from 2016-07-25 00:00:00 to 2023-03-13 00:00:00\n",
      "Sample Window goes from 2016-07-03 00:00:00 to 2018-02-08 00:00:00\n",
      "Sample Window goes from 2021-01-10 00:00:00 to 2021-05-11 00:00:00\n",
      "Sample Window goes from 2018-11-09 00:00:00 to 2021-03-05 00:00:00\n",
      "Sample Window goes from 2022-10-20 00:00:00 to 2023-03-23 00:00:00\n",
      "Sample Window goes from 2020-12-27 00:00:00 to 2022-07-25 00:00:00\n",
      "Sample Window goes from 2022-02-15 00:00:00 to 2022-08-06 00:00:00\n",
      "Sample Window goes from 2017-04-14 00:00:00 to 2018-05-14 00:00:00\n",
      "Sample Window goes from 2019-10-07 00:00:00 to 2020-02-25 00:00:00\n",
      "Sample Window goes from 2015-06-22 00:00:00 to 2017-06-05 00:00:00\n",
      "Sample Window goes from 2017-05-24 00:00:00 to 2020-11-10 00:00:00\n",
      "Sample Window goes from 2023-03-20 00:00:00 to 2023-03-20 00:00:00\n",
      "Sample Window goes from 2021-03-10 00:00:00 to 2022-06-04 00:00:00\n",
      "Sample Window goes from 2019-06-20 00:00:00 to 2021-10-22 00:00:00\n",
      "Sample Window goes from 2022-01-04 00:00:00 to 2022-09-14 00:00:00\n",
      "Sample Window goes from 2021-02-12 00:00:00 to 2021-03-03 00:00:00\n",
      "Sample Window goes from 2015-06-27 00:00:00 to 2017-10-08 00:00:00\n",
      "Sample Window goes from 2022-04-12 00:00:00 to 2022-09-28 00:00:00\n",
      "Sample Window goes from 2019-01-25 00:00:00 to 2019-06-03 00:00:00\n",
      "Sample Window goes from 2015-11-19 00:00:00 to 2019-07-19 00:00:00\n",
      "Sample Window goes from 2021-10-08 00:00:00 to 2022-08-16 00:00:00\n",
      "Sample Window goes from 2022-01-09 00:00:00 to 2023-01-25 00:00:00\n",
      "Sample Window goes from 2022-01-22 00:00:00 to 2022-08-18 00:00:00\n",
      "Sample Window goes from 2018-12-12 00:00:00 to 2020-09-28 00:00:00\n",
      "Sample Window goes from 2017-10-15 00:00:00 to 2020-03-10 00:00:00\n",
      "Sample Window goes from 2017-06-04 00:00:00 to 2021-08-27 00:00:00\n",
      "Sample Window goes from 2015-05-17 00:00:00 to 2020-06-08 00:00:00\n",
      "Sample Window goes from 2022-09-01 00:00:00 to 2023-03-31 00:00:00\n",
      "Sample Window goes from 2017-02-03 00:00:00 to 2017-07-03 00:00:00\n",
      "Sample Window goes from 2021-09-17 00:00:00 to 2022-02-04 00:00:00\n",
      "Sample Window goes from 2016-11-26 00:00:00 to 2020-07-04 00:00:00\n",
      "Sample Window goes from 2020-03-03 00:00:00 to 2021-03-17 00:00:00\n",
      "Sample Window goes from 2020-08-04 00:00:00 to 2022-05-07 00:00:00\n",
      "Sample Window goes from 2016-09-02 00:00:00 to 2019-04-25 00:00:00\n",
      "Sample Window goes from 2018-11-20 00:00:00 to 2019-09-02 00:00:00\n",
      "Sample Window goes from 2022-07-17 00:00:00 to 2022-12-20 00:00:00\n",
      "Sample Window goes from 2016-08-01 00:00:00 to 2022-01-24 00:00:00\n",
      "Sample Window goes from 2021-03-01 00:00:00 to 2022-09-06 00:00:00\n",
      "Sample Window goes from 2015-10-14 00:00:00 to 2022-08-30 00:00:00\n",
      "Sample Window goes from 2020-10-28 00:00:00 to 2022-06-28 00:00:00\n",
      "Sample Window goes from 2019-10-14 00:00:00 to 2019-12-29 00:00:00\n",
      "Sample Window goes from 2015-03-06 00:00:00 to 2022-05-16 00:00:00\n",
      "Sample Window goes from 2016-05-17 00:00:00 to 2020-04-23 00:00:00\n",
      "Sample Window goes from 2014-08-18 00:00:00 to 2019-03-23 00:00:00\n",
      "Sample Window goes from 2021-07-20 00:00:00 to 2021-12-27 00:00:00\n",
      "Sample Window goes from 2018-10-03 00:00:00 to 2019-08-01 00:00:00\n",
      "Sample Window goes from 2022-05-02 00:00:00 to 2022-06-04 00:00:00\n",
      "Sample Window goes from 2022-11-28 00:00:00 to 2022-12-24 00:00:00\n",
      "Sample Window goes from 2014-09-23 00:00:00 to 2014-11-03 00:00:00\n",
      "Sample Window goes from 2015-08-10 00:00:00 to 2018-08-29 00:00:00\n",
      "Sample Window goes from 2014-07-15 00:00:00 to 2020-12-03 00:00:00\n",
      "Sample Window goes from 2017-06-10 00:00:00 to 2020-09-21 00:00:00\n",
      "Sample Window goes from 2019-07-29 00:00:00 to 2021-12-11 00:00:00\n",
      "Sample Window goes from 2019-05-28 00:00:00 to 2022-10-05 00:00:00\n",
      "Sample Window goes from 2015-07-15 00:00:00 to 2021-08-05 00:00:00\n",
      "Sample Window goes from 2020-02-17 00:00:00 to 2021-10-18 00:00:00\n",
      "Sample Window goes from 2017-01-03 00:00:00 to 2017-07-11 00:00:00\n",
      "Sample Window goes from 2017-10-07 00:00:00 to 2020-09-01 00:00:00\n",
      "Sample Window goes from 2020-12-15 00:00:00 to 2023-02-09 00:00:00\n",
      "Sample Window goes from 2016-07-07 00:00:00 to 2019-09-16 00:00:00\n",
      "Sample Window goes from 2015-10-25 00:00:00 to 2016-11-01 00:00:00\n",
      "Sample Window goes from 2018-07-11 00:00:00 to 2019-02-13 00:00:00\n",
      "Sample Window goes from 2022-08-18 00:00:00 to 2022-10-12 00:00:00\n",
      "Sample Window goes from 2015-11-02 00:00:00 to 2020-10-20 00:00:00\n",
      "Sample Window goes from 2023-03-04 00:00:00 to 2023-04-05 00:00:00\n",
      "Sample Window goes from 2022-07-18 00:00:00 to 2022-11-28 00:00:00\n",
      "Sample Window goes from 2017-07-07 00:00:00 to 2021-12-30 00:00:00\n",
      "Sample Window goes from 2018-10-29 00:00:00 to 2021-10-14 00:00:00\n",
      "Sample Window goes from 2014-05-22 00:00:00 to 2021-06-12 00:00:00\n",
      "Sample Window goes from 2017-09-03 00:00:00 to 2018-08-06 00:00:00\n",
      "Sample Window goes from 2018-02-19 00:00:00 to 2018-04-03 00:00:00\n",
      "Sample Window goes from 2022-02-25 00:00:00 to 2022-02-28 00:00:00\n",
      "Sample Window goes from 2023-01-08 00:00:00 to 2023-02-16 00:00:00\n",
      "Sample Window goes from 2020-05-01 00:00:00 to 2022-11-30 00:00:00\n",
      "Sample Window goes from 2021-07-29 00:00:00 to 2023-02-04 00:00:00\n",
      "Sample Window goes from 2020-11-26 00:00:00 to 2022-09-02 00:00:00\n",
      "Sample Window goes from 2021-09-27 00:00:00 to 2021-12-12 00:00:00\n",
      "Sample Window goes from 2018-05-11 00:00:00 to 2019-10-16 00:00:00\n",
      "Sample Window goes from 2016-10-26 00:00:00 to 2017-01-22 00:00:00\n",
      "Sample Window goes from 2019-10-26 00:00:00 to 2020-06-06 00:00:00\n",
      "Sample Window goes from 2017-01-12 00:00:00 to 2022-02-04 00:00:00\n",
      "Sample Window goes from 2019-08-09 00:00:00 to 2022-03-30 00:00:00\n",
      "Sample Window goes from 2016-02-22 00:00:00 to 2022-07-06 00:00:00\n",
      "Sample Window goes from 2020-02-09 00:00:00 to 2021-02-08 00:00:00\n",
      "Sample Window goes from 2021-09-18 00:00:00 to 2022-11-28 00:00:00\n",
      "Sample Window goes from 2017-11-18 00:00:00 to 2021-07-20 00:00:00\n",
      "Sample Window goes from 2015-05-18 00:00:00 to 2021-04-14 00:00:00\n",
      "Sample Window goes from 2016-07-23 00:00:00 to 2019-12-20 00:00:00\n",
      "Sample Window goes from 2016-07-07 00:00:00 to 2019-03-29 00:00:00\n",
      "Sample Window goes from 2021-12-09 00:00:00 to 2023-03-30 00:00:00\n"
     ]
    }
   ],
   "source": [
    "# Alpha t-stat for random slices of the timeperiod\n",
    "tvals_slices = []\n",
    "\n",
    "for i in range(100):\n",
    "    \"\"\"With many slices\"\"\"\n",
    "    mom_slices = compute_mom_returns(log_ret_df, restricted_date_cap_df, n_universe=20, n_stocks=3, estimation_window=7, \n",
    "    holding_period=7, long_short='LS', attention=rolling_attention, random_start_date=False, random_slice=True, \n",
    "    going_neutral=False, miss_allocation=False)[1]\n",
    "\n",
    "    reg_df_slices = pd.DataFrame(mom_slices, columns = ['ret'])\n",
    "\n",
    "    Y = reg_df_slices['ret']\n",
    "    try:\n",
    "        res = smf.ols('Y ~ 1', data=reg_df_slices).fit()\n",
    "        tvals_slices.append(res.tvalues[0])\n",
    "    except: \n",
    "        continue"
   ]
  },
  {
   "cell_type": "code",
   "execution_count": 217,
   "metadata": {},
   "outputs": [
    {
     "data": {
      "image/png": "[encoded data removed]",
      "text/plain": [
       "<Figure size 432x288 with 1 Axes>"
      ]
     },
     "metadata": {},
     "output_type": "display_data"
    }
   ],
   "source": [
    "slices_tstats = pd.DataFrame(tvals_slices)\n",
    "\n",
    "plt.style.use('ggplot')\n",
    "# Plotting the data\n",
    "plt.plot(slices_tstats.index, slices_tstats.iloc[:, 0])\n",
    "\n",
    "plt.axhline(slices_tstats.iloc[:, 0].mean(), color='blue', linestyle='--', label='Mean')\n",
    "\n",
    "# Set axis labels and title\n",
    "plt.xlabel('Iteration')\n",
    "plt.ylabel('t-stat')\n",
    "plt.title('Alpha t-stat with random slices')\n",
    "\n",
    "# Display the plot\n",
    "plt.show()"
   ]
  },
  {
   "cell_type": "markdown",
   "metadata": {},
   "source": [
    "### Rebalancing Periodicity"
   ]
  },
  {
   "cell_type": "code",
   "execution_count": 218,
   "metadata": {},
   "outputs": [
    {
     "name": "stdout",
     "output_type": "stream",
     "text": [
      "Sample Window goes from 2014-05-21 00:00:00 to 2023-04-08 00:00:00\n",
      "Sample Window goes from 2014-05-21 00:00:00 to 2023-04-08 00:00:00\n",
      "Sample Window goes from 2014-05-21 00:00:00 to 2023-04-08 00:00:00\n",
      "Sample Window goes from 2014-05-21 00:00:00 to 2023-04-08 00:00:00\n",
      "Sample Window goes from 2014-05-21 00:00:00 to 2023-04-08 00:00:00\n",
      "Sample Window goes from 2014-05-21 00:00:00 to 2023-04-08 00:00:00\n",
      "Sample Window goes from 2014-05-21 00:00:00 to 2023-04-08 00:00:00\n",
      "Sample Window goes from 2014-05-21 00:00:00 to 2023-04-08 00:00:00\n",
      "Sample Window goes from 2014-05-21 00:00:00 to 2023-04-08 00:00:00\n",
      "Sample Window goes from 2014-05-21 00:00:00 to 2023-04-08 00:00:00\n",
      "Sample Window goes from 2014-05-21 00:00:00 to 2023-04-08 00:00:00\n",
      "Sample Window goes from 2014-05-21 00:00:00 to 2023-04-08 00:00:00\n",
      "Sample Window goes from 2014-05-21 00:00:00 to 2023-04-08 00:00:00\n",
      "Sample Window goes from 2014-05-21 00:00:00 to 2023-04-08 00:00:00\n",
      "Sample Window goes from 2014-05-21 00:00:00 to 2023-04-08 00:00:00\n",
      "Sample Window goes from 2014-05-21 00:00:00 to 2023-04-08 00:00:00\n",
      "Sample Window goes from 2014-05-21 00:00:00 to 2023-04-08 00:00:00\n",
      "Sample Window goes from 2014-05-21 00:00:00 to 2023-04-08 00:00:00\n",
      "Sample Window goes from 2014-05-21 00:00:00 to 2023-04-08 00:00:00\n",
      "Sample Window goes from 2014-05-21 00:00:00 to 2023-04-08 00:00:00\n",
      "Sample Window goes from 2014-05-21 00:00:00 to 2023-04-08 00:00:00\n",
      "Sample Window goes from 2014-05-21 00:00:00 to 2023-04-08 00:00:00\n",
      "Sample Window goes from 2014-05-21 00:00:00 to 2023-04-08 00:00:00\n",
      "Sample Window goes from 2014-05-21 00:00:00 to 2023-04-08 00:00:00\n",
      "Sample Window goes from 2014-05-21 00:00:00 to 2023-04-08 00:00:00\n",
      "Sample Window goes from 2014-05-21 00:00:00 to 2023-04-08 00:00:00\n",
      "Sample Window goes from 2014-05-21 00:00:00 to 2023-04-08 00:00:00\n",
      "Sample Window goes from 2014-05-21 00:00:00 to 2023-04-08 00:00:00\n",
      "Sample Window goes from 2014-05-21 00:00:00 to 2023-04-08 00:00:00\n",
      "Sample Window goes from 2014-05-21 00:00:00 to 2023-04-08 00:00:00\n",
      "Sample Window goes from 2014-05-21 00:00:00 to 2023-04-08 00:00:00\n",
      "Sample Window goes from 2014-05-21 00:00:00 to 2023-04-08 00:00:00\n",
      "Sample Window goes from 2014-05-21 00:00:00 to 2023-04-08 00:00:00\n",
      "Sample Window goes from 2014-05-21 00:00:00 to 2023-04-08 00:00:00\n",
      "Sample Window goes from 2014-05-21 00:00:00 to 2023-04-08 00:00:00\n",
      "Sample Window goes from 2014-05-21 00:00:00 to 2023-04-08 00:00:00\n",
      "Sample Window goes from 2014-05-21 00:00:00 to 2023-04-08 00:00:00\n",
      "Sample Window goes from 2014-05-21 00:00:00 to 2023-04-08 00:00:00\n",
      "Sample Window goes from 2014-05-21 00:00:00 to 2023-04-08 00:00:00\n",
      "Sample Window goes from 2014-05-21 00:00:00 to 2023-04-08 00:00:00\n",
      "Sample Window goes from 2014-05-21 00:00:00 to 2023-04-08 00:00:00\n",
      "Sample Window goes from 2014-05-21 00:00:00 to 2023-04-08 00:00:00\n",
      "Sample Window goes from 2014-05-21 00:00:00 to 2023-04-08 00:00:00\n",
      "Sample Window goes from 2014-05-21 00:00:00 to 2023-04-08 00:00:00\n",
      "Sample Window goes from 2014-05-21 00:00:00 to 2023-04-08 00:00:00\n",
      "Sample Window goes from 2014-05-21 00:00:00 to 2023-04-08 00:00:00\n",
      "Sample Window goes from 2014-05-21 00:00:00 to 2023-04-08 00:00:00\n",
      "Sample Window goes from 2014-05-21 00:00:00 to 2023-04-08 00:00:00\n",
      "Sample Window goes from 2014-05-21 00:00:00 to 2023-04-08 00:00:00\n",
      "Sample Window goes from 2014-05-21 00:00:00 to 2023-04-08 00:00:00\n",
      "Sample Window goes from 2014-05-21 00:00:00 to 2023-04-08 00:00:00\n",
      "Sample Window goes from 2014-05-21 00:00:00 to 2023-04-08 00:00:00\n",
      "Sample Window goes from 2014-05-21 00:00:00 to 2023-04-08 00:00:00\n",
      "Sample Window goes from 2014-05-21 00:00:00 to 2023-04-08 00:00:00\n",
      "Sample Window goes from 2014-05-21 00:00:00 to 2023-04-08 00:00:00\n",
      "Sample Window goes from 2014-05-21 00:00:00 to 2023-04-08 00:00:00\n",
      "Sample Window goes from 2014-05-21 00:00:00 to 2023-04-08 00:00:00\n",
      "Sample Window goes from 2014-05-21 00:00:00 to 2023-04-08 00:00:00\n",
      "Sample Window goes from 2014-05-21 00:00:00 to 2023-04-08 00:00:00\n",
      "Sample Window goes from 2014-05-21 00:00:00 to 2023-04-08 00:00:00\n",
      "Sample Window goes from 2014-05-21 00:00:00 to 2023-04-08 00:00:00\n",
      "Sample Window goes from 2014-05-21 00:00:00 to 2023-04-08 00:00:00\n",
      "Sample Window goes from 2014-05-21 00:00:00 to 2023-04-08 00:00:00\n",
      "Sample Window goes from 2014-05-21 00:00:00 to 2023-04-08 00:00:00\n"
     ]
    }
   ],
   "source": [
    "reb = [7, 14, 21, 28, 35, 42, 49, 56]\n",
    "rebalancing_df = pd.DataFrame(index=reb, columns=reb)\n",
    "\n",
    "for i in reb:\n",
    "    for j in reb:\n",
    "        reg_df_reb = compute_mom_returns(log_ret_df, restricted_date_cap_df, n_universe=20, n_stocks=3, estimation_window=i, \n",
    "        holding_period=j, long_short='LS', attention=rolling_attention, random_start_date=False, random_slice=False, \n",
    "        going_neutral=False, miss_allocation=False)[1]\n",
    "\n",
    "        Y = reg_df_reb\n",
    "        res = smf.ols('Y ~ 1', data=reg_df_reb).fit()\n",
    "        rebalancing_df.at[i, j] = res.tvalues[0]\n"
   ]
  },
  {
   "cell_type": "code",
   "execution_count": 219,
   "metadata": {},
   "outputs": [
    {
     "data": {
      "text/html": [
       "<div>\n",
       "<style scoped>\n",
       "    .dataframe tbody tr th:only-of-type {\n",
       "        vertical-align: middle;\n",
       "    }\n",
       "\n",
       "    .dataframe tbody tr th {\n",
       "        vertical-align: top;\n",
       "    }\n",
       "\n",
       "    .dataframe thead th {\n",
       "        text-align: right;\n",
       "    }\n",
       "</style>\n",
       "<table border=\"1\" class=\"dataframe\">\n",
       "  <thead>\n",
       "    <tr style=\"text-align: right;\">\n",
       "      <th></th>\n",
       "      <th>7</th>\n",
       "      <th>14</th>\n",
       "      <th>21</th>\n",
       "      <th>28</th>\n",
       "      <th>35</th>\n",
       "      <th>42</th>\n",
       "      <th>49</th>\n",
       "      <th>56</th>\n",
       "    </tr>\n",
       "  </thead>\n",
       "  <tbody>\n",
       "    <tr>\n",
       "      <th>7</th>\n",
       "      <td>7.505613</td>\n",
       "      <td>1.911086</td>\n",
       "      <td>2.177417</td>\n",
       "      <td>-0.033517</td>\n",
       "      <td>1.693113</td>\n",
       "      <td>-0.911913</td>\n",
       "      <td>1.27963</td>\n",
       "      <td>0.155371</td>\n",
       "    </tr>\n",
       "    <tr>\n",
       "      <th>14</th>\n",
       "      <td>9.829674</td>\n",
       "      <td>1.971591</td>\n",
       "      <td>1.780994</td>\n",
       "      <td>-0.616717</td>\n",
       "      <td>2.364727</td>\n",
       "      <td>-0.750014</td>\n",
       "      <td>0.894702</td>\n",
       "      <td>1.38946</td>\n",
       "    </tr>\n",
       "    <tr>\n",
       "      <th>21</th>\n",
       "      <td>9.306251</td>\n",
       "      <td>1.136946</td>\n",
       "      <td>1.499125</td>\n",
       "      <td>0.505749</td>\n",
       "      <td>1.265994</td>\n",
       "      <td>-1.176818</td>\n",
       "      <td>0.356713</td>\n",
       "      <td>1.061567</td>\n",
       "    </tr>\n",
       "    <tr>\n",
       "      <th>28</th>\n",
       "      <td>9.734474</td>\n",
       "      <td>1.802408</td>\n",
       "      <td>1.459073</td>\n",
       "      <td>1.419719</td>\n",
       "      <td>0.098134</td>\n",
       "      <td>-1.187173</td>\n",
       "      <td>-0.122387</td>\n",
       "      <td>1.128692</td>\n",
       "    </tr>\n",
       "    <tr>\n",
       "      <th>35</th>\n",
       "      <td>8.142024</td>\n",
       "      <td>1.215176</td>\n",
       "      <td>0.215735</td>\n",
       "      <td>-0.111066</td>\n",
       "      <td>0.624847</td>\n",
       "      <td>-0.480604</td>\n",
       "      <td>-0.077317</td>\n",
       "      <td>0.415699</td>\n",
       "    </tr>\n",
       "    <tr>\n",
       "      <th>42</th>\n",
       "      <td>7.841375</td>\n",
       "      <td>1.295934</td>\n",
       "      <td>0.370678</td>\n",
       "      <td>-0.131594</td>\n",
       "      <td>1.301669</td>\n",
       "      <td>-0.427562</td>\n",
       "      <td>1.00245</td>\n",
       "      <td>0.516969</td>\n",
       "    </tr>\n",
       "    <tr>\n",
       "      <th>49</th>\n",
       "      <td>7.902765</td>\n",
       "      <td>0.99212</td>\n",
       "      <td>1.222977</td>\n",
       "      <td>0.012912</td>\n",
       "      <td>2.23831</td>\n",
       "      <td>-1.242936</td>\n",
       "      <td>0.813333</td>\n",
       "      <td>0.362762</td>\n",
       "    </tr>\n",
       "    <tr>\n",
       "      <th>56</th>\n",
       "      <td>7.99867</td>\n",
       "      <td>0.440992</td>\n",
       "      <td>1.484003</td>\n",
       "      <td>0.195371</td>\n",
       "      <td>1.294531</td>\n",
       "      <td>-1.602653</td>\n",
       "      <td>0.712881</td>\n",
       "      <td>2.53111</td>\n",
       "    </tr>\n",
       "  </tbody>\n",
       "</table>\n",
       "</div>"
      ],
      "text/plain": [
       "          7         14        21        28        35        42        49  \\\n",
       "7   7.505613  1.911086  2.177417 -0.033517  1.693113 -0.911913   1.27963   \n",
       "14  9.829674  1.971591  1.780994 -0.616717  2.364727 -0.750014  0.894702   \n",
       "21  9.306251  1.136946  1.499125  0.505749  1.265994 -1.176818  0.356713   \n",
       "28  9.734474  1.802408  1.459073  1.419719  0.098134 -1.187173 -0.122387   \n",
       "35  8.142024  1.215176  0.215735 -0.111066  0.624847 -0.480604 -0.077317   \n",
       "42  7.841375  1.295934  0.370678 -0.131594  1.301669 -0.427562   1.00245   \n",
       "49  7.902765   0.99212  1.222977  0.012912   2.23831 -1.242936  0.813333   \n",
       "56   7.99867  0.440992  1.484003  0.195371  1.294531 -1.602653  0.712881   \n",
       "\n",
       "          56  \n",
       "7   0.155371  \n",
       "14   1.38946  \n",
       "21  1.061567  \n",
       "28  1.128692  \n",
       "35  0.415699  \n",
       "42  0.516969  \n",
       "49  0.362762  \n",
       "56   2.53111  "
      ]
     },
     "execution_count": 219,
     "metadata": {},
     "output_type": "execute_result"
    }
   ],
   "source": [
    "# rows = estimation size \n",
    "# columns = rebalancing periodicity\n",
    "rebalancing_df"
   ]
  },
  {
   "cell_type": "markdown",
   "metadata": {},
   "source": [
    "We get a similar conclusion to the literature that there seems to be strong reversal after the one week holding period"
   ]
  },
  {
   "cell_type": "markdown",
   "metadata": {},
   "source": [
    "### Universe and stock picked interaction"
   ]
  },
  {
   "cell_type": "code",
   "execution_count": 220,
   "metadata": {},
   "outputs": [
    {
     "name": "stdout",
     "output_type": "stream",
     "text": [
      "Sample Window goes from 2014-05-21 00:00:00 to 2023-04-08 00:00:00\n",
      "Sample Window goes from 2014-05-21 00:00:00 to 2023-04-08 00:00:00\n",
      "Sample Window goes from 2014-05-21 00:00:00 to 2023-04-08 00:00:00\n",
      "Sample Window goes from 2014-05-21 00:00:00 to 2023-04-08 00:00:00\n",
      "Sample Window goes from 2014-05-21 00:00:00 to 2023-04-08 00:00:00\n",
      "Sample Window goes from 2014-05-21 00:00:00 to 2023-04-08 00:00:00\n",
      "Sample Window goes from 2014-05-21 00:00:00 to 2023-04-08 00:00:00\n",
      "Sample Window goes from 2014-05-21 00:00:00 to 2023-04-08 00:00:00\n",
      "Sample Window goes from 2014-05-21 00:00:00 to 2023-04-08 00:00:00\n",
      "Sample Window goes from 2014-05-21 00:00:00 to 2023-04-08 00:00:00\n",
      "Sample Window goes from 2014-05-21 00:00:00 to 2023-04-08 00:00:00\n",
      "Sample Window goes from 2014-05-21 00:00:00 to 2023-04-08 00:00:00\n",
      "Sample Window goes from 2014-05-21 00:00:00 to 2023-04-08 00:00:00\n",
      "Sample Window goes from 2014-05-21 00:00:00 to 2023-04-08 00:00:00\n",
      "Sample Window goes from 2014-05-21 00:00:00 to 2023-04-08 00:00:00\n",
      "Sample Window goes from 2014-05-21 00:00:00 to 2023-04-08 00:00:00\n",
      "Sample Window goes from 2014-05-21 00:00:00 to 2023-04-08 00:00:00\n",
      "Sample Window goes from 2014-05-21 00:00:00 to 2023-04-08 00:00:00\n",
      "Sample Window goes from 2014-05-21 00:00:00 to 2023-04-08 00:00:00\n",
      "Sample Window goes from 2014-05-21 00:00:00 to 2023-04-08 00:00:00\n",
      "Sample Window goes from 2014-05-21 00:00:00 to 2023-04-08 00:00:00\n",
      "Sample Window goes from 2014-05-21 00:00:00 to 2023-04-08 00:00:00\n",
      "Sample Window goes from 2014-05-21 00:00:00 to 2023-04-08 00:00:00\n",
      "Sample Window goes from 2014-05-21 00:00:00 to 2023-04-08 00:00:00\n",
      "Sample Window goes from 2014-05-21 00:00:00 to 2023-04-08 00:00:00\n",
      "Sample Window goes from 2014-05-21 00:00:00 to 2023-04-08 00:00:00\n",
      "Sample Window goes from 2014-05-21 00:00:00 to 2023-04-08 00:00:00\n",
      "Sample Window goes from 2014-05-21 00:00:00 to 2023-04-08 00:00:00\n",
      "Sample Window goes from 2014-05-21 00:00:00 to 2023-04-08 00:00:00\n",
      "Sample Window goes from 2014-05-21 00:00:00 to 2023-04-08 00:00:00\n",
      "Sample Window goes from 2014-05-21 00:00:00 to 2023-04-08 00:00:00\n",
      "Sample Window goes from 2014-05-21 00:00:00 to 2023-04-08 00:00:00\n",
      "Sample Window goes from 2014-05-21 00:00:00 to 2023-04-08 00:00:00\n",
      "Sample Window goes from 2014-05-21 00:00:00 to 2023-04-08 00:00:00\n",
      "Sample Window goes from 2014-05-21 00:00:00 to 2023-04-08 00:00:00\n",
      "Sample Window goes from 2014-05-21 00:00:00 to 2023-04-08 00:00:00\n",
      "Sample Window goes from 2014-05-21 00:00:00 to 2023-04-08 00:00:00\n",
      "Sample Window goes from 2014-05-21 00:00:00 to 2023-04-08 00:00:00\n",
      "Sample Window goes from 2014-05-21 00:00:00 to 2023-04-08 00:00:00\n",
      "Sample Window goes from 2014-05-21 00:00:00 to 2023-04-08 00:00:00\n",
      "Sample Window goes from 2014-05-21 00:00:00 to 2023-04-08 00:00:00\n",
      "Sample Window goes from 2014-05-21 00:00:00 to 2023-04-08 00:00:00\n",
      "Sample Window goes from 2014-05-21 00:00:00 to 2023-04-08 00:00:00\n",
      "Sample Window goes from 2014-05-21 00:00:00 to 2023-04-08 00:00:00\n",
      "Sample Window goes from 2014-05-21 00:00:00 to 2023-04-08 00:00:00\n",
      "Sample Window goes from 2014-05-21 00:00:00 to 2023-04-08 00:00:00\n",
      "Sample Window goes from 2014-05-21 00:00:00 to 2023-04-08 00:00:00\n",
      "Sample Window goes from 2014-05-21 00:00:00 to 2023-04-08 00:00:00\n",
      "Sample Window goes from 2014-05-21 00:00:00 to 2023-04-08 00:00:00\n",
      "Sample Window goes from 2014-05-21 00:00:00 to 2023-04-08 00:00:00\n",
      "Sample Window goes from 2014-05-21 00:00:00 to 2023-04-08 00:00:00\n",
      "Sample Window goes from 2014-05-21 00:00:00 to 2023-04-08 00:00:00\n",
      "Sample Window goes from 2014-05-21 00:00:00 to 2023-04-08 00:00:00\n",
      "Sample Window goes from 2014-05-21 00:00:00 to 2023-04-08 00:00:00\n",
      "Sample Window goes from 2014-05-21 00:00:00 to 2023-04-08 00:00:00\n",
      "Sample Window goes from 2014-05-21 00:00:00 to 2023-04-08 00:00:00\n",
      "Sample Window goes from 2014-05-21 00:00:00 to 2023-04-08 00:00:00\n",
      "Sample Window goes from 2014-05-21 00:00:00 to 2023-04-08 00:00:00\n",
      "Sample Window goes from 2014-05-21 00:00:00 to 2023-04-08 00:00:00\n",
      "Sample Window goes from 2014-05-21 00:00:00 to 2023-04-08 00:00:00\n",
      "Sample Window goes from 2014-05-21 00:00:00 to 2023-04-08 00:00:00\n",
      "Sample Window goes from 2014-05-21 00:00:00 to 2023-04-08 00:00:00\n",
      "Sample Window goes from 2014-05-21 00:00:00 to 2023-04-08 00:00:00\n",
      "Sample Window goes from 2014-05-21 00:00:00 to 2023-04-08 00:00:00\n",
      "Sample Window goes from 2014-05-21 00:00:00 to 2023-04-08 00:00:00\n",
      "Sample Window goes from 2014-05-21 00:00:00 to 2023-04-08 00:00:00\n",
      "Sample Window goes from 2014-05-21 00:00:00 to 2023-04-08 00:00:00\n",
      "Sample Window goes from 2014-05-21 00:00:00 to 2023-04-08 00:00:00\n",
      "Sample Window goes from 2014-05-21 00:00:00 to 2023-04-08 00:00:00\n",
      "Sample Window goes from 2014-05-21 00:00:00 to 2023-04-08 00:00:00\n",
      "Sample Window goes from 2014-05-21 00:00:00 to 2023-04-08 00:00:00\n",
      "Sample Window goes from 2014-05-21 00:00:00 to 2023-04-08 00:00:00\n",
      "Sample Window goes from 2014-05-21 00:00:00 to 2023-04-08 00:00:00\n",
      "Sample Window goes from 2014-05-21 00:00:00 to 2023-04-08 00:00:00\n",
      "Sample Window goes from 2014-05-21 00:00:00 to 2023-04-08 00:00:00\n",
      "Sample Window goes from 2014-05-21 00:00:00 to 2023-04-08 00:00:00\n",
      "Sample Window goes from 2014-05-21 00:00:00 to 2023-04-08 00:00:00\n",
      "Sample Window goes from 2014-05-21 00:00:00 to 2023-04-08 00:00:00\n",
      "Sample Window goes from 2014-05-21 00:00:00 to 2023-04-08 00:00:00\n",
      "Sample Window goes from 2014-05-21 00:00:00 to 2023-04-08 00:00:00\n",
      "Sample Window goes from 2014-05-21 00:00:00 to 2023-04-08 00:00:00\n",
      "Sample Window goes from 2014-05-21 00:00:00 to 2023-04-08 00:00:00\n",
      "Sample Window goes from 2014-05-21 00:00:00 to 2023-04-08 00:00:00\n",
      "Sample Window goes from 2014-05-21 00:00:00 to 2023-04-08 00:00:00\n",
      "Sample Window goes from 2014-05-21 00:00:00 to 2023-04-08 00:00:00\n",
      "Sample Window goes from 2014-05-21 00:00:00 to 2023-04-08 00:00:00\n",
      "Sample Window goes from 2014-05-21 00:00:00 to 2023-04-08 00:00:00\n",
      "Sample Window goes from 2014-05-21 00:00:00 to 2023-04-08 00:00:00\n",
      "Sample Window goes from 2014-05-21 00:00:00 to 2023-04-08 00:00:00\n",
      "Sample Window goes from 2014-05-21 00:00:00 to 2023-04-08 00:00:00\n",
      "Sample Window goes from 2014-05-21 00:00:00 to 2023-04-08 00:00:00\n",
      "Sample Window goes from 2014-05-21 00:00:00 to 2023-04-08 00:00:00\n",
      "Sample Window goes from 2014-05-21 00:00:00 to 2023-04-08 00:00:00\n",
      "Sample Window goes from 2014-05-21 00:00:00 to 2023-04-08 00:00:00\n",
      "Sample Window goes from 2014-05-21 00:00:00 to 2023-04-08 00:00:00\n",
      "Sample Window goes from 2014-05-21 00:00:00 to 2023-04-08 00:00:00\n",
      "Sample Window goes from 2014-05-21 00:00:00 to 2023-04-08 00:00:00\n",
      "Sample Window goes from 2014-05-21 00:00:00 to 2023-04-08 00:00:00\n",
      "Sample Window goes from 2014-05-21 00:00:00 to 2023-04-08 00:00:00\n",
      "Sample Window goes from 2014-05-21 00:00:00 to 2023-04-08 00:00:00\n",
      "Sample Window goes from 2014-05-21 00:00:00 to 2023-04-08 00:00:00\n",
      "Sample Window goes from 2014-05-21 00:00:00 to 2023-04-08 00:00:00\n",
      "Sample Window goes from 2014-05-21 00:00:00 to 2023-04-08 00:00:00\n",
      "Sample Window goes from 2014-05-21 00:00:00 to 2023-04-08 00:00:00\n",
      "Sample Window goes from 2014-05-21 00:00:00 to 2023-04-08 00:00:00\n",
      "Sample Window goes from 2014-05-21 00:00:00 to 2023-04-08 00:00:00\n",
      "Sample Window goes from 2014-05-21 00:00:00 to 2023-04-08 00:00:00\n",
      "Sample Window goes from 2014-05-21 00:00:00 to 2023-04-08 00:00:00\n",
      "Sample Window goes from 2014-05-21 00:00:00 to 2023-04-08 00:00:00\n",
      "Sample Window goes from 2014-05-21 00:00:00 to 2023-04-08 00:00:00\n",
      "Sample Window goes from 2014-05-21 00:00:00 to 2023-04-08 00:00:00\n",
      "Sample Window goes from 2014-05-21 00:00:00 to 2023-04-08 00:00:00\n",
      "Sample Window goes from 2014-05-21 00:00:00 to 2023-04-08 00:00:00\n",
      "Sample Window goes from 2014-05-21 00:00:00 to 2023-04-08 00:00:00\n",
      "Sample Window goes from 2014-05-21 00:00:00 to 2023-04-08 00:00:00\n",
      "Sample Window goes from 2014-05-21 00:00:00 to 2023-04-08 00:00:00\n",
      "Sample Window goes from 2014-05-21 00:00:00 to 2023-04-08 00:00:00\n",
      "Sample Window goes from 2014-05-21 00:00:00 to 2023-04-08 00:00:00\n",
      "Sample Window goes from 2014-05-21 00:00:00 to 2023-04-08 00:00:00\n",
      "Sample Window goes from 2014-05-21 00:00:00 to 2023-04-08 00:00:00\n",
      "Sample Window goes from 2014-05-21 00:00:00 to 2023-04-08 00:00:00\n",
      "Sample Window goes from 2014-05-21 00:00:00 to 2023-04-08 00:00:00\n",
      "Sample Window goes from 2014-05-21 00:00:00 to 2023-04-08 00:00:00\n",
      "Sample Window goes from 2014-05-21 00:00:00 to 2023-04-08 00:00:00\n",
      "Sample Window goes from 2014-05-21 00:00:00 to 2023-04-08 00:00:00\n",
      "Sample Window goes from 2014-05-21 00:00:00 to 2023-04-08 00:00:00\n",
      "Sample Window goes from 2014-05-21 00:00:00 to 2023-04-08 00:00:00\n",
      "Sample Window goes from 2014-05-21 00:00:00 to 2023-04-08 00:00:00\n",
      "Sample Window goes from 2014-05-21 00:00:00 to 2023-04-08 00:00:00\n",
      "Sample Window goes from 2014-05-21 00:00:00 to 2023-04-08 00:00:00\n",
      "Sample Window goes from 2014-05-21 00:00:00 to 2023-04-08 00:00:00\n",
      "Sample Window goes from 2014-05-21 00:00:00 to 2023-04-08 00:00:00\n",
      "Sample Window goes from 2014-05-21 00:00:00 to 2023-04-08 00:00:00\n",
      "Sample Window goes from 2014-05-21 00:00:00 to 2023-04-08 00:00:00\n",
      "Sample Window goes from 2014-05-21 00:00:00 to 2023-04-08 00:00:00\n",
      "Sample Window goes from 2014-05-21 00:00:00 to 2023-04-08 00:00:00\n",
      "Sample Window goes from 2014-05-21 00:00:00 to 2023-04-08 00:00:00\n",
      "Sample Window goes from 2014-05-21 00:00:00 to 2023-04-08 00:00:00\n",
      "Sample Window goes from 2014-05-21 00:00:00 to 2023-04-08 00:00:00\n",
      "Sample Window goes from 2014-05-21 00:00:00 to 2023-04-08 00:00:00\n",
      "Sample Window goes from 2014-05-21 00:00:00 to 2023-04-08 00:00:00\n",
      "Sample Window goes from 2014-05-21 00:00:00 to 2023-04-08 00:00:00\n",
      "Sample Window goes from 2014-05-21 00:00:00 to 2023-04-08 00:00:00\n",
      "Sample Window goes from 2014-05-21 00:00:00 to 2023-04-08 00:00:00\n",
      "Sample Window goes from 2014-05-21 00:00:00 to 2023-04-08 00:00:00\n",
      "Sample Window goes from 2014-05-21 00:00:00 to 2023-04-08 00:00:00\n",
      "Sample Window goes from 2014-05-21 00:00:00 to 2023-04-08 00:00:00\n",
      "Sample Window goes from 2014-05-21 00:00:00 to 2023-04-08 00:00:00\n",
      "Sample Window goes from 2014-05-21 00:00:00 to 2023-04-08 00:00:00\n",
      "Sample Window goes from 2014-05-21 00:00:00 to 2023-04-08 00:00:00\n",
      "Sample Window goes from 2014-05-21 00:00:00 to 2023-04-08 00:00:00\n",
      "Sample Window goes from 2014-05-21 00:00:00 to 2023-04-08 00:00:00\n",
      "Sample Window goes from 2014-05-21 00:00:00 to 2023-04-08 00:00:00\n",
      "Sample Window goes from 2014-05-21 00:00:00 to 2023-04-08 00:00:00\n",
      "Sample Window goes from 2014-05-21 00:00:00 to 2023-04-08 00:00:00\n",
      "Sample Window goes from 2014-05-21 00:00:00 to 2023-04-08 00:00:00\n",
      "Sample Window goes from 2014-05-21 00:00:00 to 2023-04-08 00:00:00\n",
      "Sample Window goes from 2014-05-21 00:00:00 to 2023-04-08 00:00:00\n",
      "Sample Window goes from 2014-05-21 00:00:00 to 2023-04-08 00:00:00\n",
      "Sample Window goes from 2014-05-21 00:00:00 to 2023-04-08 00:00:00\n",
      "Sample Window goes from 2014-05-21 00:00:00 to 2023-04-08 00:00:00\n",
      "Sample Window goes from 2014-05-21 00:00:00 to 2023-04-08 00:00:00\n",
      "Sample Window goes from 2014-05-21 00:00:00 to 2023-04-08 00:00:00\n",
      "Sample Window goes from 2014-05-21 00:00:00 to 2023-04-08 00:00:00\n",
      "Sample Window goes from 2014-05-21 00:00:00 to 2023-04-08 00:00:00\n",
      "Sample Window goes from 2014-05-21 00:00:00 to 2023-04-08 00:00:00\n",
      "Sample Window goes from 2014-05-21 00:00:00 to 2023-04-08 00:00:00\n",
      "Sample Window goes from 2014-05-21 00:00:00 to 2023-04-08 00:00:00\n",
      "Sample Window goes from 2014-05-21 00:00:00 to 2023-04-08 00:00:00\n",
      "Sample Window goes from 2014-05-21 00:00:00 to 2023-04-08 00:00:00\n",
      "Sample Window goes from 2014-05-21 00:00:00 to 2023-04-08 00:00:00\n",
      "Sample Window goes from 2014-05-21 00:00:00 to 2023-04-08 00:00:00\n",
      "Sample Window goes from 2014-05-21 00:00:00 to 2023-04-08 00:00:00\n",
      "Sample Window goes from 2014-05-21 00:00:00 to 2023-04-08 00:00:00\n",
      "Sample Window goes from 2014-05-21 00:00:00 to 2023-04-08 00:00:00\n",
      "Sample Window goes from 2014-05-21 00:00:00 to 2023-04-08 00:00:00\n",
      "Sample Window goes from 2014-05-21 00:00:00 to 2023-04-08 00:00:00\n",
      "Sample Window goes from 2014-05-21 00:00:00 to 2023-04-08 00:00:00\n",
      "Sample Window goes from 2014-05-21 00:00:00 to 2023-04-08 00:00:00\n",
      "Sample Window goes from 2014-05-21 00:00:00 to 2023-04-08 00:00:00\n",
      "Sample Window goes from 2014-05-21 00:00:00 to 2023-04-08 00:00:00\n",
      "Sample Window goes from 2014-05-21 00:00:00 to 2023-04-08 00:00:00\n",
      "Sample Window goes from 2014-05-21 00:00:00 to 2023-04-08 00:00:00\n",
      "Sample Window goes from 2014-05-21 00:00:00 to 2023-04-08 00:00:00\n",
      "Sample Window goes from 2014-05-21 00:00:00 to 2023-04-08 00:00:00\n",
      "Sample Window goes from 2014-05-21 00:00:00 to 2023-04-08 00:00:00\n",
      "Sample Window goes from 2014-05-21 00:00:00 to 2023-04-08 00:00:00\n",
      "Sample Window goes from 2014-05-21 00:00:00 to 2023-04-08 00:00:00\n",
      "Sample Window goes from 2014-05-21 00:00:00 to 2023-04-08 00:00:00\n",
      "Sample Window goes from 2014-05-21 00:00:00 to 2023-04-08 00:00:00\n",
      "Sample Window goes from 2014-05-21 00:00:00 to 2023-04-08 00:00:00\n",
      "Sample Window goes from 2014-05-21 00:00:00 to 2023-04-08 00:00:00\n",
      "Sample Window goes from 2014-05-21 00:00:00 to 2023-04-08 00:00:00\n",
      "Sample Window goes from 2014-05-21 00:00:00 to 2023-04-08 00:00:00\n",
      "Sample Window goes from 2014-05-21 00:00:00 to 2023-04-08 00:00:00\n",
      "Sample Window goes from 2014-05-21 00:00:00 to 2023-04-08 00:00:00\n",
      "Sample Window goes from 2014-05-21 00:00:00 to 2023-04-08 00:00:00\n",
      "Sample Window goes from 2014-05-21 00:00:00 to 2023-04-08 00:00:00\n",
      "Sample Window goes from 2014-05-21 00:00:00 to 2023-04-08 00:00:00\n",
      "Sample Window goes from 2014-05-21 00:00:00 to 2023-04-08 00:00:00\n",
      "Sample Window goes from 2014-05-21 00:00:00 to 2023-04-08 00:00:00\n",
      "Sample Window goes from 2014-05-21 00:00:00 to 2023-04-08 00:00:00\n",
      "Sample Window goes from 2014-05-21 00:00:00 to 2023-04-08 00:00:00\n",
      "Sample Window goes from 2014-05-21 00:00:00 to 2023-04-08 00:00:00\n",
      "Sample Window goes from 2014-05-21 00:00:00 to 2023-04-08 00:00:00\n",
      "Sample Window goes from 2014-05-21 00:00:00 to 2023-04-08 00:00:00\n",
      "Sample Window goes from 2014-05-21 00:00:00 to 2023-04-08 00:00:00\n",
      "Sample Window goes from 2014-05-21 00:00:00 to 2023-04-08 00:00:00\n",
      "Sample Window goes from 2014-05-21 00:00:00 to 2023-04-08 00:00:00\n",
      "Sample Window goes from 2014-05-21 00:00:00 to 2023-04-08 00:00:00\n",
      "Sample Window goes from 2014-05-21 00:00:00 to 2023-04-08 00:00:00\n",
      "Sample Window goes from 2014-05-21 00:00:00 to 2023-04-08 00:00:00\n",
      "Sample Window goes from 2014-05-21 00:00:00 to 2023-04-08 00:00:00\n",
      "Sample Window goes from 2014-05-21 00:00:00 to 2023-04-08 00:00:00\n",
      "Sample Window goes from 2014-05-21 00:00:00 to 2023-04-08 00:00:00\n",
      "Sample Window goes from 2014-05-21 00:00:00 to 2023-04-08 00:00:00\n",
      "Sample Window goes from 2014-05-21 00:00:00 to 2023-04-08 00:00:00\n",
      "Sample Window goes from 2014-05-21 00:00:00 to 2023-04-08 00:00:00\n",
      "Sample Window goes from 2014-05-21 00:00:00 to 2023-04-08 00:00:00\n",
      "Sample Window goes from 2014-05-21 00:00:00 to 2023-04-08 00:00:00\n",
      "Sample Window goes from 2014-05-21 00:00:00 to 2023-04-08 00:00:00\n",
      "Sample Window goes from 2014-05-21 00:00:00 to 2023-04-08 00:00:00\n",
      "Sample Window goes from 2014-05-21 00:00:00 to 2023-04-08 00:00:00\n",
      "Sample Window goes from 2014-05-21 00:00:00 to 2023-04-08 00:00:00\n",
      "Sample Window goes from 2014-05-21 00:00:00 to 2023-04-08 00:00:00\n",
      "Sample Window goes from 2014-05-21 00:00:00 to 2023-04-08 00:00:00\n",
      "Sample Window goes from 2014-05-21 00:00:00 to 2023-04-08 00:00:00\n",
      "Sample Window goes from 2014-05-21 00:00:00 to 2023-04-08 00:00:00\n",
      "Sample Window goes from 2014-05-21 00:00:00 to 2023-04-08 00:00:00\n",
      "Sample Window goes from 2014-05-21 00:00:00 to 2023-04-08 00:00:00\n",
      "Sample Window goes from 2014-05-21 00:00:00 to 2023-04-08 00:00:00\n",
      "Sample Window goes from 2014-05-21 00:00:00 to 2023-04-08 00:00:00\n",
      "Sample Window goes from 2014-05-21 00:00:00 to 2023-04-08 00:00:00\n",
      "Sample Window goes from 2014-05-21 00:00:00 to 2023-04-08 00:00:00\n",
      "Sample Window goes from 2014-05-21 00:00:00 to 2023-04-08 00:00:00\n",
      "Sample Window goes from 2014-05-21 00:00:00 to 2023-04-08 00:00:00\n",
      "Sample Window goes from 2014-05-21 00:00:00 to 2023-04-08 00:00:00\n",
      "Sample Window goes from 2014-05-21 00:00:00 to 2023-04-08 00:00:00\n",
      "Sample Window goes from 2014-05-21 00:00:00 to 2023-04-08 00:00:00\n",
      "Sample Window goes from 2014-05-21 00:00:00 to 2023-04-08 00:00:00\n",
      "Sample Window goes from 2014-05-21 00:00:00 to 2023-04-08 00:00:00\n",
      "Sample Window goes from 2014-05-21 00:00:00 to 2023-04-08 00:00:00\n",
      "Sample Window goes from 2014-05-21 00:00:00 to 2023-04-08 00:00:00\n",
      "Sample Window goes from 2014-05-21 00:00:00 to 2023-04-08 00:00:00\n",
      "Sample Window goes from 2014-05-21 00:00:00 to 2023-04-08 00:00:00\n",
      "Sample Window goes from 2014-05-21 00:00:00 to 2023-04-08 00:00:00\n",
      "Sample Window goes from 2014-05-21 00:00:00 to 2023-04-08 00:00:00\n",
      "Sample Window goes from 2014-05-21 00:00:00 to 2023-04-08 00:00:00\n",
      "Sample Window goes from 2014-05-21 00:00:00 to 2023-04-08 00:00:00\n",
      "Sample Window goes from 2014-05-21 00:00:00 to 2023-04-08 00:00:00\n",
      "Sample Window goes from 2014-05-21 00:00:00 to 2023-04-08 00:00:00\n",
      "Sample Window goes from 2014-05-21 00:00:00 to 2023-04-08 00:00:00\n",
      "Sample Window goes from 2014-05-21 00:00:00 to 2023-04-08 00:00:00\n",
      "Sample Window goes from 2014-05-21 00:00:00 to 2023-04-08 00:00:00\n",
      "Sample Window goes from 2014-05-21 00:00:00 to 2023-04-08 00:00:00\n",
      "Sample Window goes from 2014-05-21 00:00:00 to 2023-04-08 00:00:00\n",
      "Sample Window goes from 2014-05-21 00:00:00 to 2023-04-08 00:00:00\n",
      "Sample Window goes from 2014-05-21 00:00:00 to 2023-04-08 00:00:00\n",
      "Sample Window goes from 2014-05-21 00:00:00 to 2023-04-08 00:00:00\n",
      "Sample Window goes from 2014-05-21 00:00:00 to 2023-04-08 00:00:00\n",
      "Sample Window goes from 2014-05-21 00:00:00 to 2023-04-08 00:00:00\n",
      "Sample Window goes from 2014-05-21 00:00:00 to 2023-04-08 00:00:00\n",
      "Sample Window goes from 2014-05-21 00:00:00 to 2023-04-08 00:00:00\n",
      "Sample Window goes from 2014-05-21 00:00:00 to 2023-04-08 00:00:00\n",
      "Sample Window goes from 2014-05-21 00:00:00 to 2023-04-08 00:00:00\n",
      "Sample Window goes from 2014-05-21 00:00:00 to 2023-04-08 00:00:00\n",
      "Sample Window goes from 2014-05-21 00:00:00 to 2023-04-08 00:00:00\n",
      "Sample Window goes from 2014-05-21 00:00:00 to 2023-04-08 00:00:00\n",
      "Sample Window goes from 2014-05-21 00:00:00 to 2023-04-08 00:00:00\n",
      "Sample Window goes from 2014-05-21 00:00:00 to 2023-04-08 00:00:00\n"
     ]
    }
   ],
   "source": [
    "### Establish some robustness tests on the basis of number of stocks in universe vs number of picked stocks maximum \n",
    "\n",
    "universe_ls_df = pd.DataFrame(index=[i for i in range(10,41)], columns=[j for j in range(1,5)])\n",
    "\n",
    "def run_robustness():\n",
    "    for i in range(10, 40):\n",
    "        for j in range(1, 10):\n",
    "            momentum_weights, momentum_factor = compute_mom_returns(log_ret_df, restricted_date_cap_df, n_universe=i, n_stocks=j, estimation_window=7, holding_period=7, long_short=None, attention=rolling_attention)\n",
    "\n",
    "            reg_df = pd.DataFrame(momentum_factor, columns = ['ret'])\n",
    "\n",
    "            Y = reg_df['ret']\n",
    "            res = smf.ols('Y ~ 1', data=reg_df).fit()\n",
    "            universe_ls_df.at[i, j] = res.tvalues[0]\n",
    "\n",
    "run_robustness()\n",
    "\n",
    "universe_ls_df = universe_ls_df.iloc[:-1, :-1]\n"
   ]
  },
  {
   "cell_type": "code",
   "execution_count": 221,
   "metadata": {},
   "outputs": [
    {
     "data": {
      "text/plain": [
       "[<matplotlib.lines.Line2D at 0x7f8220da0250>]"
      ]
     },
     "execution_count": 221,
     "metadata": {},
     "output_type": "execute_result"
    },
    {
     "data": {
      "image/png": "[encoded data removed]",
      "text/plain": [
       "<Figure size 432x288 with 1 Axes>"
      ]
     },
     "metadata": {},
     "output_type": "display_data"
    }
   ],
   "source": [
    "plt.plot(universe_ls_df.mean(axis=1))"
   ]
  },
  {
   "cell_type": "code",
   "execution_count": 222,
   "metadata": {},
   "outputs": [
    {
     "data": {
      "text/plain": [
       "[<matplotlib.lines.Line2D at 0x7f81e460e070>]"
      ]
     },
     "execution_count": 222,
     "metadata": {},
     "output_type": "execute_result"
    },
    {
     "data": {
      "image/png": "[encoded data removed]",
      "text/plain": [
       "<Figure size 432x288 with 1 Axes>"
      ]
     },
     "metadata": {},
     "output_type": "display_data"
    }
   ],
   "source": [
    "plt.plot(universe_ls_df.mean(axis=0))"
   ]
  },
  {
   "cell_type": "code",
   "execution_count": 223,
   "metadata": {},
   "outputs": [
    {
     "name": "stderr",
     "output_type": "stream",
     "text": [
      "No artists with labels found to put in legend.  Note that artists whose label start with an underscore are ignored when legend() is called with no argument.\n"
     ]
    },
    {
     "data": {
      "text/plain": [
       "<matplotlib.legend.Legend at 0x7f81e4602e50>"
      ]
     },
     "execution_count": 223,
     "metadata": {},
     "output_type": "execute_result"
    },
    {
     "data": {
      "image/png": "[encoded data removed]",
      "text/plain": [
       "<Figure size 1152x576 with 1 Axes>"
      ]
     },
     "metadata": {},
     "output_type": "display_data"
    }
   ],
   "source": [
    "# Rows: Number of stocks in the universe \n",
    "# Columns: Number of stocks in LONG portfolio\n",
    "plt.style.use('ggplot')\n",
    "plt.figure(figsize=(16, 8))\n",
    "plt.plot(universe_ls_df)\n",
    "plt.legend()"
   ]
  },
  {
   "cell_type": "code",
   "execution_count": null,
   "metadata": {},
   "outputs": [],
   "source": []
  }
 ],
 "metadata": {
  "kernelspec": {
   "display_name": "base",
   "language": "python",
   "name": "python3"
  },
  "language_info": {
   "codemirror_mode": {
    "name": "ipython",
    "version": 3
   },
   "file_extension": ".py",
   "mimetype": "text/x-python",
   "name": "python",
   "nbconvert_exporter": "python",
   "pygments_lexer": "ipython3",
   "version": "3.9.12"
  },
  "orig_nbformat": 4,
  "vscode": {
   "interpreter": {
    "hash": "15b0d29f8539af148d961be3b2ebf8daa9cfc2f989fa7f40b7a4b5e494ac056b"
   }
  }
 },
 "nbformat": 4,
 "nbformat_minor": 2
}
