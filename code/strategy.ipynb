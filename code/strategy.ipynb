{
 "cells": [
  {
   "attachments": {},
   "cell_type": "markdown",
   "metadata": {},
   "source": [
    "# Actual Draft for the Script to run every Sunday\n",
    "\n",
    "1. Get top 20 stocks by market cap \n",
    "2. Get historical returns for the last X days of those stocks \n",
    "3. Cumulate these returns and return a sorted dataframe\n",
    "4. Gather the top and last 3 \n",
    "5. Intersect with the attention data (will have to scrape that manually, every Sunday (monday?))"
   ]
  },
  {
   "cell_type": "code",
   "execution_count": 47,
   "metadata": {},
   "outputs": [],
   "source": [
    "import requests\n",
    "from bs4 import BeautifulSoup\n",
    "import pandas as pd\n",
    "import rpy2.robjects as robjects\n",
    "\n",
    "\n",
    "import numpy as np\n",
    "\n",
    "import datetime"
   ]
  },
  {
   "attachments": {},
   "cell_type": "markdown",
   "metadata": {},
   "source": [
    "***\n",
    "## Universe Scraper \n",
    "Grab top 20 market cap cryptocurrencies (scraped from CoinMarketCap)"
   ]
  },
  {
   "cell_type": "code",
   "execution_count": 48,
   "metadata": {},
   "outputs": [],
   "source": [
    "###=== UNIVERSE SCRAPER ===###\n",
    "\n",
    "url = \"https://coinmarketcap.com/\"\n",
    "response = requests.get(url)\n",
    "\n",
    "soup = BeautifulSoup(response.content, \"html.parser\")\n",
    "table = soup.find(\"table\")\n",
    "\n",
    "rows = table.find_all(\"tr\")\n",
    "\n",
    "ticker_list = []\n",
    "\n",
    "for i, row in enumerate(rows[1:101]): # exclude header row\n",
    "    if i < 10:\n",
    "        ticker = row.find(\"a\", {\"class\": \"cmc-link\"}).find('p', {'class': 'coin-item-symbol'}).text\n",
    "    else:\n",
    "        ticker = row.find(\"a\", {\"class\": \"cmc-link\"}).find(\"span\", {\"class\": \"crypto-symbol\"}).text\n",
    "\n",
    "    ticker_list.append(ticker)"
   ]
  },
  {
   "cell_type": "code",
   "execution_count": 49,
   "metadata": {},
   "outputs": [],
   "source": [
    "###=== CLEANING AND SELECTION OF THE UNIVERSE ===###\n",
    "\n",
    "no_trades = ['USD', 'DAI', 'WBTC', 'WETH']\n",
    "\n",
    "for i in range(len(no_trades)):    \n",
    "    ticker_list = [x for x in ticker_list if no_trades[i] not in x]\n",
    "\n",
    "top_fifteen = ticker_list[:15]"
   ]
  },
  {
   "cell_type": "code",
   "execution_count": 50,
   "metadata": {},
   "outputs": [
    {
     "data": {
      "text/plain": [
       "['BTC',\n",
       " 'ETH',\n",
       " 'XRP',\n",
       " 'BNB',\n",
       " 'ADA',\n",
       " 'SOL',\n",
       " 'DOGE',\n",
       " 'TRX',\n",
       " 'MATIC',\n",
       " 'LTC',\n",
       " 'DOT',\n",
       " 'AVAX',\n",
       " 'BCH',\n",
       " 'TON',\n",
       " 'SHIB']"
      ]
     },
     "execution_count": 50,
     "metadata": {},
     "output_type": "execute_result"
    }
   ],
   "source": [
    "top_fifteen"
   ]
  },
  {
   "attachments": {},
   "cell_type": "markdown",
   "metadata": {},
   "source": [
    "***\n",
    "## Price Scraper"
   ]
  },
  {
   "cell_type": "code",
   "execution_count": 51,
   "metadata": {},
   "outputs": [],
   "source": [
    "start_date = (datetime.date.today() - datetime.timedelta(21)).strftime('%d-%m-%Y')\n",
    "end_date = (datetime.date.today()).strftime('%d-%m-%Y')"
   ]
  },
  {
   "attachments": {},
   "cell_type": "markdown",
   "metadata": {},
   "source": [
    "### With CMC Scraper"
   ]
  },
  {
   "cell_type": "code",
   "execution_count": 52,
   "metadata": {},
   "outputs": [],
   "source": [
    "from cryptocmd import CmcScraper\n",
    "\n",
    "# Inital DF with Bitcoin \n",
    "scraper = CmcScraper(\"BTC\", start_date, end_date)\n",
    "df = pd.DataFrame(scraper.get_dataframe(date_as_index=True)['Close']).rename(columns={'Close':'BTC'})\n",
    "\n",
    "for crypto in top_twenty[1:]:\n",
    "    scraper = CmcScraper(str(crypto), start_date, end_date)\n",
    "    df = pd.merge(df, pd.DataFrame(scraper.get_dataframe(date_as_index=True)['Close']).rename(columns={'Close':str(crypto)}), left_index=True, right_index=True)\n",
    "price_df = df[::-1]\n"
   ]
  },
  {
   "attachments": {},
   "cell_type": "markdown",
   "metadata": {},
   "source": [
    "***\n",
    "## Strategy itself"
   ]
  },
  {
   "cell_type": "code",
   "execution_count": 53,
   "metadata": {},
   "outputs": [],
   "source": [
    "def output_strategy(n_ls, data, output_sort=False):\n",
    "\n",
    "    # Cumulative Returns for the Past Week\n",
    "    log_ret_df = np.log(1 + data.pct_change())\n",
    "    cum_returns = log_ret_df.apply(lambda x: x.sum())\n",
    "\n",
    "    if output_sort == True:\n",
    "        print(cum_returns.sort_values(ascending=False))\n",
    "    \n",
    "\n",
    "    top_stocks = cum_returns.sort_values(ascending=False).index[:n_ls].values\n",
    "    bottom_stocks = cum_returns.sort_values(ascending=True).index[:n_ls].values\n",
    "\n",
    "    print(f'Cryptos to long this week: {top_stocks}')\n",
    "    print(f'Cryptos to short this week: {bottom_stocks}')\n",
    "\n"
   ]
  },
  {
   "cell_type": "code",
   "execution_count": 54,
   "metadata": {},
   "outputs": [
    {
     "name": "stdout",
     "output_type": "stream",
     "text": [
      "XRP      0.567636\n",
      "SOL      0.500550\n",
      "MATIC    0.192509\n",
      "ADA      0.191358\n",
      "AVAX     0.125376\n",
      "DOGE     0.113979\n",
      "LTC      0.103969\n",
      "TRX      0.084832\n",
      "BCH      0.080871\n",
      "SHIB     0.068220\n",
      "DOT      0.062336\n",
      "BNB      0.044561\n",
      "ETH      0.032845\n",
      "TON     -0.005143\n",
      "BTC     -0.005744\n",
      "dtype: float64\n",
      "Cryptos to long this week: ['XRP' 'SOL' 'MATIC']\n",
      "Cryptos to short this week: ['BTC' 'TON' 'ETH']\n"
     ]
    }
   ],
   "source": [
    "output_strategy(3, price_df, output_sort=True)"
   ]
  },
  {
   "cell_type": "code",
   "execution_count": null,
   "metadata": {},
   "outputs": [],
   "source": []
  }
 ],
 "metadata": {
  "kernelspec": {
   "display_name": "base",
   "language": "python",
   "name": "python3"
  },
  "language_info": {
   "codemirror_mode": {
    "name": "ipython",
    "version": 3
   },
   "file_extension": ".py",
   "mimetype": "text/x-python",
   "name": "python",
   "nbconvert_exporter": "python",
   "pygments_lexer": "ipython3",
   "version": "3.9.12"
  },
  "orig_nbformat": 4,
  "vscode": {
   "interpreter": {
    "hash": "15b0d29f8539af148d961be3b2ebf8daa9cfc2f989fa7f40b7a4b5e494ac056b"
   }
  }
 },
 "nbformat": 4,
 "nbformat_minor": 2
}
