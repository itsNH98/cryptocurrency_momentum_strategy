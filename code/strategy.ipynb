{
 "cells": [
  {
   "attachments": {},
   "cell_type": "markdown",
   "metadata": {},
   "source": [
    "# Actual Draft for the Script to run every Sunday\n",
    "\n",
    "1. Get top 15 stocks by market cap \n",
    "2. Get historical returns for the last X days of those stocks \n",
    "3. Cumulate these returns and return a sorted dataframe\n",
    "4. Gather the top and last 3 \n",
    "5. Intersect with the attention data (see R code)"
   ]
  },
  {
   "cell_type": "code",
   "execution_count": 4,
   "metadata": {},
   "outputs": [],
   "source": [
    "import requests\n",
    "from bs4 import BeautifulSoup\n",
    "import pandas as pd\n",
    "import numpy as np\n",
    "\n",
    "import datetime"
   ]
  },
  {
   "attachments": {},
   "cell_type": "markdown",
   "metadata": {},
   "source": [
    "***\n",
    "## Universe Scraper \n",
    "Grab top 20 market cap cryptocurrencies (scraped from CoinMarketCap)"
   ]
  },
  {
   "cell_type": "code",
   "execution_count": 5,
   "metadata": {},
   "outputs": [],
   "source": [
    "###=== UNIVERSE SCRAPER ===###\n",
    "\n",
    "url = \"https://coinmarketcap.com/\"\n",
    "response = requests.get(url)\n",
    "\n",
    "soup = BeautifulSoup(response.content, \"html.parser\")\n",
    "table = soup.find(\"table\")\n",
    "\n",
    "rows = table.find_all(\"tr\")\n",
    "\n",
    "ticker_list = []\n",
    "\n",
    "for i, row in enumerate(rows[1:101]): # exclude header row\n",
    "    if i < 10:\n",
    "        ticker = row.find(\"a\", {\"class\": \"cmc-link\"}).find('p', {'class': 'coin-item-symbol'}).text\n",
    "    else:\n",
    "        ticker = row.find(\"a\", {\"class\": \"cmc-link\"}).find(\"span\", {\"class\": \"crypto-symbol\"}).text\n",
    "\n",
    "    ticker_list.append(ticker)"
   ]
  },
  {
   "cell_type": "code",
   "execution_count": 12,
   "metadata": {},
   "outputs": [],
   "source": [
    "###=== CLEANING AND SELECTION OF THE UNIVERSE ===###\n",
    "\n",
    "no_trades = ['USD', 'DAI', 'WBTC', 'WETH']\n",
    "\n",
    "for i in range(len(no_trades)):    \n",
    "    ticker_list = [x for x in ticker_list if no_trades[i] not in x]\n",
    "\n",
    "top_twenty_mktcap = ticker_list[:20]"
   ]
  },
  {
   "cell_type": "code",
   "execution_count": 13,
   "metadata": {},
   "outputs": [
    {
     "data": {
      "text/plain": [
       "['BTC',\n",
       " 'ETH',\n",
       " 'BNB',\n",
       " 'XRP',\n",
       " 'DOGE',\n",
       " 'ADA',\n",
       " 'SOL',\n",
       " 'TRX',\n",
       " 'MATIC',\n",
       " 'DOT',\n",
       " 'LTC',\n",
       " 'SHIB',\n",
       " 'BCH',\n",
       " 'AVAX',\n",
       " 'TON',\n",
       " 'XLM',\n",
       " 'LINK',\n",
       " 'LEO',\n",
       " 'UNI',\n",
       " 'ATOM']"
      ]
     },
     "execution_count": 13,
     "metadata": {},
     "output_type": "execute_result"
    }
   ],
   "source": [
    "top_twenty_mktcap"
   ]
  },
  {
   "attachments": {},
   "cell_type": "markdown",
   "metadata": {},
   "source": [
    "***\n",
    "## Price Scraper"
   ]
  },
  {
   "cell_type": "code",
   "execution_count": 19,
   "metadata": {},
   "outputs": [],
   "source": [
    "# Returns for past 14 days\n",
    "start_date = (datetime.date.today() - datetime.timedelta(14)).strftime('%d-%m-%Y')\n",
    "end_date = (datetime.date.today()).strftime('%d-%m-%Y')"
   ]
  },
  {
   "attachments": {},
   "cell_type": "markdown",
   "metadata": {},
   "source": [
    "### With CMC Scraper"
   ]
  },
  {
   "cell_type": "code",
   "execution_count": 20,
   "metadata": {},
   "outputs": [],
   "source": [
    "from cryptocmd import CmcScraper\n",
    "\n",
    "# Inital DF with Bitcoin \n",
    "scraper = CmcScraper(\"BTC\", start_date, end_date)\n",
    "df = pd.DataFrame(scraper.get_dataframe(date_as_index=True)['Close']).rename(columns={'Close':'BTC'})\n",
    "\n",
    "for crypto in top_twenty_mktcap[1:]:\n",
    "    scraper = CmcScraper(str(crypto), start_date, end_date)\n",
    "    df = pd.merge(df, pd.DataFrame(scraper.get_dataframe(date_as_index=True)['Close']).rename(columns={'Close':str(crypto)}), left_index=True, right_index=True)\n",
    "price_df = df[::-1]\n"
   ]
  },
  {
   "attachments": {},
   "cell_type": "markdown",
   "metadata": {},
   "source": [
    "***\n",
    "## Strategy itself"
   ]
  },
  {
   "cell_type": "code",
   "execution_count": 21,
   "metadata": {},
   "outputs": [],
   "source": [
    "def output_strategy(n_ls, data, output_sort=False):\n",
    "\n",
    "    # Cumulative Returns for the Past Week\n",
    "    log_ret_df = np.log(1 + data.pct_change())\n",
    "    cum_returns = log_ret_df.apply(lambda x: x.sum())\n",
    "\n",
    "    if output_sort == True:\n",
    "        print(cum_returns.sort_values(ascending=False))\n",
    "    \n",
    "\n",
    "    top_stocks = cum_returns.sort_values(ascending=False).index[:n_ls].values\n",
    "    bottom_stocks = cum_returns.sort_values(ascending=True).index[:n_ls].values\n",
    "\n",
    "    print(f'Cryptos to long this week: {top_stocks}')\n",
    "    print(f'Cryptos to short this week: {bottom_stocks}')\n"
   ]
  },
  {
   "cell_type": "code",
   "execution_count": 22,
   "metadata": {},
   "outputs": [
    {
     "name": "stdout",
     "output_type": "stream",
     "text": [
      "SHIB     0.200932\n",
      "UNI      0.028377\n",
      "BNB      0.015994\n",
      "LEO      0.005114\n",
      "DOGE    -0.000033\n",
      "BTC     -0.004640\n",
      "SOL     -0.008409\n",
      "ETH     -0.012259\n",
      "AVAX    -0.041372\n",
      "DOT     -0.042571\n",
      "ADA     -0.044291\n",
      "XLM     -0.046666\n",
      "TRX     -0.058545\n",
      "ATOM    -0.061314\n",
      "LINK    -0.066614\n",
      "BCH     -0.069642\n",
      "LTC     -0.077904\n",
      "MATIC   -0.088097\n",
      "XRP     -0.120337\n",
      "TON     -0.152451\n",
      "dtype: float64\n",
      "Cryptos to long this week: ['SHIB' 'UNI' 'BNB']\n",
      "Cryptos to short this week: ['TON' 'XRP' 'MATIC']\n"
     ]
    }
   ],
   "source": [
    "output_strategy(3, price_df, output_sort=True)"
   ]
  },
  {
   "cell_type": "code",
   "execution_count": null,
   "metadata": {},
   "outputs": [],
   "source": []
  }
 ],
 "metadata": {
  "kernelspec": {
   "display_name": "base",
   "language": "python",
   "name": "python3"
  },
  "language_info": {
   "codemirror_mode": {
    "name": "ipython",
    "version": 3
   },
   "file_extension": ".py",
   "mimetype": "text/x-python",
   "name": "python",
   "nbconvert_exporter": "python",
   "pygments_lexer": "ipython3",
   "version": "3.9.12"
  },
  "orig_nbformat": 4,
  "vscode": {
   "interpreter": {
    "hash": "15b0d29f8539af148d961be3b2ebf8daa9cfc2f989fa7f40b7a4b5e494ac056b"
   }
  }
 },
 "nbformat": 4,
 "nbformat_minor": 2
}
