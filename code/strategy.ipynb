{
 "cells": [
  {
   "attachments": {},
   "cell_type": "markdown",
   "metadata": {},
   "source": [
    "# Cryptocurrency Weekly Strategy\n",
    "\n",
    "By Nicolas Harvie"
   ]
  },
  {
   "cell_type": "code",
   "execution_count": 1,
   "metadata": {},
   "outputs": [],
   "source": [
    "import requests\n",
    "from bs4 import BeautifulSoup\n",
    "import pandas as pd\n",
    "import numpy as np\n",
    "\n",
    "import datetime"
   ]
  },
  {
   "attachments": {},
   "cell_type": "markdown",
   "metadata": {},
   "source": [
    "***\n",
    "## Universe Scraper \n",
    "Grab top 20 market cap cryptocurrencies (scraped from CoinMarketCap)"
   ]
  },
  {
   "cell_type": "code",
   "execution_count": 2,
   "metadata": {},
   "outputs": [],
   "source": [
    "###=== UNIVERSE SCRAPER ===###\n",
    "\n",
    "url = \"https://coinmarketcap.com/\"\n",
    "response = requests.get(url)\n",
    "\n",
    "soup = BeautifulSoup(response.content, \"html.parser\")\n",
    "table = soup.find(\"table\")\n",
    "\n",
    "rows = table.find_all(\"tr\")\n",
    "\n",
    "ticker_list = []\n",
    "\n",
    "for i, row in enumerate(rows[1:101]): # exclude header row\n",
    "    if i < 10:\n",
    "        ticker = row.find(\"a\", {\"class\": \"cmc-link\"}).find('p', {'class': 'coin-item-symbol'}).text\n",
    "    else:\n",
    "        ticker = row.find(\"a\", {\"class\": \"cmc-link\"}).find(\"span\", {\"class\": \"crypto-symbol\"}).text\n",
    "\n",
    "    ticker_list.append(ticker)"
   ]
  },
  {
   "cell_type": "code",
   "execution_count": 3,
   "metadata": {},
   "outputs": [],
   "source": [
    "###=== CLEANING AND SELECTION OF THE UNIVERSE ===###\n",
    "\n",
    "no_trades = ['USD', 'DAI', 'WBTC', 'WETH']\n",
    "\n",
    "for i in range(len(no_trades)):    \n",
    "    ticker_list = [x for x in ticker_list if no_trades[i] not in x]\n",
    "\n",
    "top_twenty_mktcap = ticker_list[:20]"
   ]
  },
  {
   "attachments": {},
   "cell_type": "markdown",
   "metadata": {},
   "source": [
    "***\n",
    "## Price Scraper"
   ]
  },
  {
   "cell_type": "code",
   "execution_count": 4,
   "metadata": {},
   "outputs": [],
   "source": [
    "# Returns for past 14 days\n",
    "start_date = (datetime.date.today() - datetime.timedelta(14)).strftime('%d-%m-%Y')\n",
    "end_date = (datetime.date.today()).strftime('%d-%m-%Y')"
   ]
  },
  {
   "attachments": {},
   "cell_type": "markdown",
   "metadata": {},
   "source": [
    "### With CMC Scraper"
   ]
  },
  {
   "cell_type": "code",
   "execution_count": 5,
   "metadata": {},
   "outputs": [],
   "source": [
    "from cryptocmd import CmcScraper\n",
    "\n",
    "# Inital DF with Bitcoin \n",
    "scraper = CmcScraper(\"BTC\", start_date, end_date)\n",
    "df = pd.DataFrame(scraper.get_dataframe(date_as_index=True)['Close']).rename(columns={'Close':'BTC'})\n",
    "\n",
    "for crypto in top_twenty_mktcap[1:]:\n",
    "    scraper = CmcScraper(str(crypto), start_date, end_date)\n",
    "    df = pd.merge(df, pd.DataFrame(scraper.get_dataframe(date_as_index=True)['Close']).rename(columns={'Close':str(crypto)}), left_index=True, right_index=True)\n",
    "price_df = df[::-1]\n"
   ]
  },
  {
   "attachments": {},
   "cell_type": "markdown",
   "metadata": {},
   "source": [
    "***\n",
    "## Strategy itself"
   ]
  },
  {
   "cell_type": "code",
   "execution_count": 6,
   "metadata": {},
   "outputs": [],
   "source": [
    "def output_strategy(n_ls, data, output_sort=False):\n",
    "\n",
    "    # Cumulative Returns for the Past Week\n",
    "    log_ret_df = np.log(1 + data.pct_change())\n",
    "    cum_returns = log_ret_df.apply(lambda x: x.sum())\n",
    "\n",
    "    if output_sort == True:\n",
    "        print(cum_returns.sort_values(ascending=False))\n",
    "    \n",
    "\n",
    "    top_stocks = cum_returns.sort_values(ascending=False).index[:n_ls].values\n",
    "    bottom_stocks = cum_returns.sort_values(ascending=True).index[:n_ls].values\n",
    "\n",
    "    return top_stocks, bottom_stocks\n"
   ]
  },
  {
   "cell_type": "code",
   "execution_count": 7,
   "metadata": {},
   "outputs": [
    {
     "name": "stdout",
     "output_type": "stream",
     "text": [
      "TON      0.110838\n",
      "LEO     -0.029857\n",
      "TRX     -0.036737\n",
      "SOL     -0.058007\n",
      "ADA     -0.084637\n",
      "ETH     -0.090421\n",
      "ATOM    -0.095115\n",
      "DOT     -0.101094\n",
      "SHIB    -0.104978\n",
      "BTC     -0.106948\n",
      "BNB     -0.112337\n",
      "XLM     -0.118105\n",
      "LINK    -0.140207\n",
      "MATIC   -0.144882\n",
      "AVAX    -0.151327\n",
      "DOGE    -0.152556\n",
      "BCH     -0.174280\n",
      "XRP     -0.181571\n",
      "UNI     -0.192940\n",
      "LTC     -0.251951\n",
      "dtype: float64\n"
     ]
    }
   ],
   "source": [
    "to_long, to_short = output_strategy(3, price_df, output_sort=True)"
   ]
  },
  {
   "cell_type": "code",
   "execution_count": 8,
   "metadata": {},
   "outputs": [],
   "source": [
    "available_gmx = ['ETH', 'BTC', 'LINK', 'ARB', 'UNI', 'SOL', 'DOGE', 'XRP', 'LTC']"
   ]
  },
  {
   "cell_type": "code",
   "execution_count": 9,
   "metadata": {},
   "outputs": [
    {
     "name": "stdout",
     "output_type": "stream",
     "text": [
      "To long []\n",
      "To short ['LTC', 'UNI', 'XRP']\n"
     ]
    }
   ],
   "source": [
    "gmx_to_short = [value for value in to_short if value in available_gmx]\n",
    "gmx_to_long = [value for value in to_long if value in available_gmx]\n",
    "\n",
    "print(f'To long {gmx_to_long}')\n",
    "print(f'To short {gmx_to_short}')"
   ]
  }
 ],
 "metadata": {
  "kernelspec": {
   "display_name": "base",
   "language": "python",
   "name": "python3"
  },
  "language_info": {
   "codemirror_mode": {
    "name": "ipython",
    "version": 3
   },
   "file_extension": ".py",
   "mimetype": "text/x-python",
   "name": "python",
   "nbconvert_exporter": "python",
   "pygments_lexer": "ipython3",
   "version": "3.9.12"
  },
  "orig_nbformat": 4,
  "vscode": {
   "interpreter": {
    "hash": "15b0d29f8539af148d961be3b2ebf8daa9cfc2f989fa7f40b7a4b5e494ac056b"
   }
  }
 },
 "nbformat": 4,
 "nbformat_minor": 2
}
